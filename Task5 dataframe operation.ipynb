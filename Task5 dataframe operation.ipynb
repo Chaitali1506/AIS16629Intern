{
 "cells": [
  {
   "cell_type": "code",
   "execution_count": null,
   "id": "776cb7af-2b5c-491d-96ef-1f051f2649a6",
   "metadata": {},
   "outputs": [],
   "source": [
    "#Count Values in Pandas Dataframe\n",
    "#we are going to count values in Pandas dataframe. First, we will create a data frame, and then we will count the values of different attributes.\n",
    "#Syntax: DataFrame.count(axis=0, level=None, numeric_only=False)"
   ]
  },
  {
   "cell_type": "code",
   "execution_count": 59,
   "id": "7d3d1392-2da8-4a09-8fec-ef5db1d23216",
   "metadata": {},
   "outputs": [
    {
     "data": {
      "text/html": [
       "<div>\n",
       "<style scoped>\n",
       "    .dataframe tbody tr th:only-of-type {\n",
       "        vertical-align: middle;\n",
       "    }\n",
       "\n",
       "    .dataframe tbody tr th {\n",
       "        vertical-align: top;\n",
       "    }\n",
       "\n",
       "    .dataframe thead th {\n",
       "        text-align: right;\n",
       "    }\n",
       "</style>\n",
       "<table border=\"1\" class=\"dataframe\">\n",
       "  <thead>\n",
       "    <tr style=\"text-align: right;\">\n",
       "      <th></th>\n",
       "      <th>Name</th>\n",
       "      <th>Physics</th>\n",
       "      <th>Chemistry</th>\n",
       "      <th>Math</th>\n",
       "    </tr>\n",
       "  </thead>\n",
       "  <tbody>\n",
       "    <tr>\n",
       "      <th>0</th>\n",
       "      <td>Shobhit</td>\n",
       "      <td>11.0</td>\n",
       "      <td>10.0</td>\n",
       "      <td>13.0</td>\n",
       "    </tr>\n",
       "    <tr>\n",
       "      <th>1</th>\n",
       "      <td>Vaibhav</td>\n",
       "      <td>12.0</td>\n",
       "      <td>14.0</td>\n",
       "      <td>10.0</td>\n",
       "    </tr>\n",
       "    <tr>\n",
       "      <th>2</th>\n",
       "      <td>Vimal</td>\n",
       "      <td>13.0</td>\n",
       "      <td>NaN</td>\n",
       "      <td>15.0</td>\n",
       "    </tr>\n",
       "    <tr>\n",
       "      <th>3</th>\n",
       "      <td>Sourabh</td>\n",
       "      <td>14.0</td>\n",
       "      <td>18.0</td>\n",
       "      <td>NaN</td>\n",
       "    </tr>\n",
       "    <tr>\n",
       "      <th>4</th>\n",
       "      <td>Rahul</td>\n",
       "      <td>NaN</td>\n",
       "      <td>20.0</td>\n",
       "      <td>NaN</td>\n",
       "    </tr>\n",
       "    <tr>\n",
       "      <th>5</th>\n",
       "      <td>Shobhit</td>\n",
       "      <td>11.0</td>\n",
       "      <td>10.0</td>\n",
       "      <td>13.0</td>\n",
       "    </tr>\n",
       "  </tbody>\n",
       "</table>\n",
       "</div>"
      ],
      "text/plain": [
       "      Name  Physics  Chemistry  Math\n",
       "0  Shobhit     11.0       10.0  13.0\n",
       "1  Vaibhav     12.0       14.0  10.0\n",
       "2    Vimal     13.0        NaN  15.0\n",
       "3  Sourabh     14.0       18.0   NaN\n",
       "4    Rahul      NaN       20.0   NaN\n",
       "5  Shobhit     11.0       10.0  13.0"
      ]
     },
     "metadata": {},
     "output_type": "display_data"
    }
   ],
   "source": [
    "# importing libraries\n",
    "import numpy as np\n",
    "import pandas as pd\n",
    "NaN = np.nan\n",
    "dataframe = pd.DataFrame({'Name': ['Shobhit', 'Vaibhav',\n",
    "                                   'Vimal', 'Sourabh',\n",
    "                                   'Rahul', 'Shobhit'],\n",
    "                          'Physics': [11, 12, 13, 14, NaN, 11],\n",
    "                          'Chemistry': [10, 14, NaN, 18, 20, 10],\n",
    "                          'Math': [13, 10, 15, NaN, NaN, 13]})\n",
    "display(dataframe)"
   ]
  },
  {
   "cell_type": "code",
   "execution_count": 60,
   "id": "27d65982-6716-46ab-878c-384b2c24a5e2",
   "metadata": {},
   "outputs": [
    {
     "data": {
      "text/plain": [
       "Name         6\n",
       "Physics      5\n",
       "Chemistry    5\n",
       "Math         4\n",
       "dtype: int64"
      ]
     },
     "execution_count": 60,
     "metadata": {},
     "output_type": "execute_result"
    }
   ],
   "source": [
    "# using dataframe.count() \n",
    "# to count all values\n",
    "dataframe.count()"
   ]
  },
  {
   "cell_type": "code",
   "execution_count": 61,
   "id": "96b8be9b-3f5d-4d76-8bfa-980b71491a7b",
   "metadata": {},
   "outputs": [
    {
     "name": "stdout",
     "output_type": "stream",
     "text": [
      "0    4\n",
      "1    4\n",
      "2    3\n",
      "3    3\n",
      "4    2\n",
      "5    4\n",
      "dtype: int64\n",
      "0    4\n",
      "1    4\n",
      "2    3\n",
      "3    3\n",
      "4    2\n",
      "5    4\n",
      "dtype: int64\n"
     ]
    }
   ],
   "source": [
    "# we can pass either axis=1 or\n",
    "# axos='columns' to count with respect to row\n",
    "print(dataframe.count(axis = 1)) \n",
    "print(dataframe.count(axis = 'columns'))"
   ]
  },
  {
   "cell_type": "code",
   "execution_count": 62,
   "id": "5014cb67-fde4-4825-9f31-a479e4180cdb",
   "metadata": {},
   "outputs": [
    {
     "name": "stdout",
     "output_type": "stream",
     "text": [
      "Name         0\n",
      "Physics      1\n",
      "Chemistry    1\n",
      "Math         2\n",
      "dtype: int64\n",
      "Total Null values count:  4\n"
     ]
    }
   ],
   "source": [
    "#we want to count null values in our dataframe.\n",
    "print(dataframe.isnull().sum())\n",
    "print(\"Total Null values count: \",\n",
    "      dataframe.isnull().sum().sum())"
   ]
  },
  {
   "cell_type": "code",
   "execution_count": null,
   "id": "2a99cdc4-f93f-4789-8974-e739d4a3e1bb",
   "metadata": {},
   "outputs": [],
   "source": [
    "#dataframe Pandas.apply()\n",
    "#Pandas.apply allow the users to pass a function and apply it on every single value of the Pandas series."
   ]
  },
  {
   "cell_type": "code",
   "execution_count": 63,
   "id": "19f460e8-b5f9-483e-8fac-c1ba862b6240",
   "metadata": {},
   "outputs": [
    {
     "name": "stdout",
     "output_type": "stream",
     "text": [
      "   A   B\n",
      "0  1  10\n",
      "1  2  20\n",
      "   A    B\n",
      "0  1  100\n",
      "1  4  400\n"
     ]
    }
   ],
   "source": [
    "import pandas as pd\n",
    "df = pd.DataFrame({'A': [1, 2], 'B': [10, 20]})\n",
    "def square(x):\n",
    "    return x * x\n",
    "df1 = df.apply(square)\n",
    "print(df)\n",
    "print(df1)"
   ]
  },
  {
   "cell_type": "code",
   "execution_count": 64,
   "id": "269e673b-91a8-42fb-b3fb-bb7070aeeaac",
   "metadata": {},
   "outputs": [
    {
     "name": "stdout",
     "output_type": "stream",
     "text": [
      "A     3\n",
      "B    30\n",
      "dtype: int64\n",
      "0    11\n",
      "1    22\n",
      "dtype: int64\n"
     ]
    }
   ],
   "source": [
    "import pandas as pd\n",
    "import numpy as np\n",
    "df = pd.DataFrame({'A': [1, 2], 'B': [10, 20]})\n",
    "df1 = df.apply(np.sum, axis=0)\n",
    "print(df1)\n",
    "df1 = df.apply(np.sum, axis=1)\n",
    "print(df1)"
   ]
  },
  {
   "cell_type": "code",
   "execution_count": 65,
   "id": "54b2886e-e242-43d5-ac9e-5812b870ff67",
   "metadata": {},
   "outputs": [
    {
     "name": "stdout",
     "output_type": "stream",
     "text": [
      "   A   B\n",
      "0  4  13\n",
      "1  5  23\n"
     ]
    }
   ],
   "source": [
    "#DataFrame apply() with arguments\n",
    "import pandas as pd\n",
    "def sum(x, y, z):\n",
    "    return x + y + z\n",
    "df = pd.DataFrame({'A': [1, 2], 'B': [10, 20]})\n",
    "df1 = df.apply(sum, args=(1, 2))\n",
    "print(df1)"
   ]
  },
  {
   "cell_type": "code",
   "execution_count": 67,
   "id": "2ff04572-4d39-45dc-a0b2-d7be01e0985f",
   "metadata": {},
   "outputs": [
    {
     "name": "stdout",
     "output_type": "stream",
     "text": [
      "x     120\n",
      "y    1454\n",
      "dtype: int64\n"
     ]
    }
   ],
   "source": [
    "#Return the sum of each row by applying a function:\n",
    "import pandas as pd\n",
    "def calc_sum(x):\n",
    "   return x.sum()\n",
    "data = {\n",
    "  \"x\": [50, 40, 30],\n",
    "  \"y\": [300, 1112, 42]\n",
    "}\n",
    "df = pd.DataFrame(data)\n",
    "x = df.apply(calc_sum)\n",
    "print(x)"
   ]
  },
  {
   "cell_type": "code",
   "execution_count": 69,
   "id": "c06d3250-3209-4ba0-968d-a8ad7e38cbfd",
   "metadata": {},
   "outputs": [],
   "source": [
    "#Get unique values from a column in Pandas DataFrame\n",
    "#The unique() function removes all duplicate values on a column and returns a single value for multiple same values. \n",
    "# Import pandas package\n",
    "import pandas as pd\n",
    "# create a dictionary with five fields each\n",
    "data = {\n",
    "    'A': ['A1', 'A2', 'A3', 'A4', 'A5'],\n",
    "    'B': ['B1', 'B2', 'B3', 'B4', 'B4'],\n",
    "    'C': ['C1', 'C2', 'C3', 'C3', 'C3'],\n",
    "    'D': ['D1', 'D2', 'D2', 'D2', 'D2'],\n",
    "    'E': ['E1', 'E1', 'E1', 'E1', 'E1']}\n",
    "# Convert the dictionary into DataFrame\n",
    "df = pd.DataFrame(data)"
   ]
  },
  {
   "cell_type": "code",
   "execution_count": 70,
   "id": "7a0d97d6-9d8c-4b37-a6a8-476dfe39bff2",
   "metadata": {},
   "outputs": [
    {
     "data": {
      "text/plain": [
       "array(['B1', 'B2', 'B3', 'B4'], dtype=object)"
      ]
     },
     "execution_count": 70,
     "metadata": {},
     "output_type": "execute_result"
    }
   ],
   "source": [
    "# Import pandas package\n",
    "import pandas as pd\n",
    "# Convert the dictionary into DataFrame\n",
    "df = pd.DataFrame(data) \n",
    "# Get the unique values of 'B' column\n",
    "df.B.unique()"
   ]
  },
  {
   "cell_type": "code",
   "execution_count": 71,
   "id": "549be413-a38a-468c-b11b-427f90a2619e",
   "metadata": {},
   "outputs": [
    {
     "data": {
      "text/plain": [
       "3"
      ]
     },
     "execution_count": 71,
     "metadata": {},
     "output_type": "execute_result"
    }
   ],
   "source": [
    "#Get Number of Unique Values in a Column\n",
    "# Import pandas package\n",
    "import pandas as pd \n",
    "# Convert the dictionary into DataFrame\n",
    "df = pd.DataFrame(data) \n",
    "# Get number of unique values in column 'C'\n",
    "df.C.nunique(dropna=True)"
   ]
  },
  {
   "cell_type": "code",
   "execution_count": 73,
   "id": "7d68d956-7143-4f2e-a5d5-70e3f57707ac",
   "metadata": {},
   "outputs": [
    {
     "name": "stdout",
     "output_type": "stream",
     "text": [
      "[1 2 3]\n"
     ]
    }
   ],
   "source": [
    "import pandas as pd\n",
    "s = pd.Series([1, 1, 2, 3, 3])\n",
    "unique_elements = s.unique()\n",
    "print(unique_elements)"
   ]
  },
  {
   "cell_type": "code",
   "execution_count": 74,
   "id": "787d02a7-3f32-44ab-8e2b-076629064400",
   "metadata": {},
   "outputs": [
    {
     "name": "stdout",
     "output_type": "stream",
     "text": [
      "[ True False]\n"
     ]
    }
   ],
   "source": [
    "import pandas as pd\n",
    "s = pd.Series([True, False, True, True, False])\n",
    "unique_elements = s.unique()\n",
    "print(unique_elements)"
   ]
  },
  {
   "cell_type": "code",
   "execution_count": 75,
   "id": "1e2420fa-d1ba-4733-96a9-20887499d59f",
   "metadata": {},
   "outputs": [
    {
     "name": "stdout",
     "output_type": "stream",
     "text": [
      "3\n"
     ]
    }
   ],
   "source": [
    "import pandas as pd\n",
    "s = pd.Series(['apple', 'banana', 'apple', 'orange', 'banana', 'banana'])\n",
    "unique_counts = s.unique().size\n",
    "print(unique_counts)"
   ]
  },
  {
   "cell_type": "code",
   "execution_count": 76,
   "id": "0c7d9e38-6b96-48b8-a79d-10273f1783cb",
   "metadata": {},
   "outputs": [
    {
     "name": "stdout",
     "output_type": "stream",
     "text": [
      "[ 1.  2. nan]\n"
     ]
    }
   ],
   "source": [
    "#Handling NaN Values\n",
    "import pandas as pd\n",
    "s = pd.Series([1, 1, 2, None, 2, None])\n",
    "unique_elements = s.unique()\n",
    "print(unique_elements)"
   ]
  },
  {
   "cell_type": "code",
   "execution_count": 77,
   "id": "eb6faac7-bd5e-418d-a6b0-30908e935866",
   "metadata": {},
   "outputs": [
    {
     "name": "stdout",
     "output_type": "stream",
     "text": [
      "0    1\n",
      "1    2\n",
      "2    3\n",
      "dtype: int64\n"
     ]
    }
   ],
   "source": [
    "#Pandas DataFrame nunique() Method\n",
    "#Return the number of unique values for each column:\n",
    "#Pandas dataframe.nunique() function returns a Series with a number of distinct observations over the requested axis.\n",
    "import pandas as pd\n",
    "data = [[10, 20, 0], [10, 10, 10], [10, 20, 30]]\n",
    "df = pd.DataFrame(data)\n",
    "print(df.nunique())"
   ]
  },
  {
   "cell_type": "code",
   "execution_count": 78,
   "id": "19b5b476-e205-4920-8706-1ffc2347992a",
   "metadata": {},
   "outputs": [
    {
     "data": {
      "text/plain": [
       "0    3\n",
       "1    4\n",
       "2    4\n",
       "3    3\n",
       "4    4\n",
       "dtype: int64"
      ]
     },
     "execution_count": 78,
     "metadata": {},
     "output_type": "execute_result"
    }
   ],
   "source": [
    "# importing pandas as pd\n",
    "import pandas as pd\n",
    "df = pd.DataFrame({\"A\":[14, 4, 5, 4, 1],\n",
    "                \"B\":[5, 2, 54, 3, 2],\n",
    "                \"C\":[20, 20, 7, 3, 8],\n",
    "                    \"D\":[14, 3, 6, 2, 6]})\n",
    "# find unique values\n",
    "df.nunique(axis=1)"
   ]
  },
  {
   "cell_type": "code",
   "execution_count": 79,
   "id": "301af42e-9aba-4289-9b5a-6de36ac92ec5",
   "metadata": {},
   "outputs": [
    {
     "name": "stdout",
     "output_type": "stream",
     "text": [
      "               0          1          2\n",
      "count   3.000000   3.000000   3.000000\n",
      "mean   10.666667  17.666667   7.333333\n",
      "std     2.081666   2.516611   4.041452\n",
      "min     9.000000  15.000000   3.000000\n",
      "25%     9.500000  16.500000   5.500000\n",
      "50%    10.000000  18.000000   8.000000\n",
      "75%    11.500000  19.000000   9.500000\n",
      "max    13.000000  20.000000  11.000000\n"
     ]
    }
   ],
   "source": [
    "#Pandas DataFrame describe() Method\n",
    "#Return a statistically description of the data in the DataFrame:\n",
    "#Pandas describe() is used to view some basic statistical details like percentile, mean, std, etc. of a data frame or a series of numeric values\n",
    "import pandas as pd\n",
    "data = [[10, 18, 11], [13, 15, 8], [9, 20, 3]]\n",
    "df = pd.DataFrame(data)\n",
    "print(df.describe())"
   ]
  },
  {
   "cell_type": "code",
   "execution_count": 82,
   "id": "ecbd0290-d54c-4d0c-b99c-1e09a3c46777",
   "metadata": {},
   "outputs": [
    {
     "data": {
      "text/plain": [
       "count    3.0\n",
       "mean     2.0\n",
       "std      1.0\n",
       "min      1.0\n",
       "25%      1.5\n",
       "50%      2.0\n",
       "75%      2.5\n",
       "max      3.0\n",
       "dtype: float64"
      ]
     },
     "execution_count": 82,
     "metadata": {},
     "output_type": "execute_result"
    }
   ],
   "source": [
    "import pandas as pd  \n",
    "import numpy as np  \n",
    "a1 = pd.Series([1, 2, 3])  \n",
    "a1.describe()  "
   ]
  }
 ],
 "metadata": {
  "kernelspec": {
   "display_name": "Python 3 (ipykernel)",
   "language": "python",
   "name": "python3"
  },
  "language_info": {
   "codemirror_mode": {
    "name": "ipython",
    "version": 3
   },
   "file_extension": ".py",
   "mimetype": "text/x-python",
   "name": "python",
   "nbconvert_exporter": "python",
   "pygments_lexer": "ipython3",
   "version": "3.11.7"
  }
 },
 "nbformat": 4,
 "nbformat_minor": 5
}
