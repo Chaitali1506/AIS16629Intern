{
 "cells": [
  {
   "cell_type": "code",
   "execution_count": null,
   "id": "627b8b9e-b849-4de0-badc-217c2ca7a3d1",
   "metadata": {},
   "outputs": [],
   "source": [
    "#Pandas Series:A Pandas Series is like a column in a table.\n",
    "#It is a one-dimensional array holding data of any type."
   ]
  },
  {
   "cell_type": "code",
   "execution_count": 2,
   "id": "776dbe78-11a7-4925-b05d-50b9d19ea773",
   "metadata": {},
   "outputs": [
    {
     "name": "stdout",
     "output_type": "stream",
     "text": [
      "0    1\n",
      "1    7\n",
      "2    2\n",
      "dtype: int64\n"
     ]
    }
   ],
   "source": [
    "#Create a simple Pandas Series from a list:\n",
    "import pandas as pd\n",
    "a = [1, 7, 2]\n",
    "myvar = pd.Series(a)\n",
    "print(myvar)"
   ]
  },
  {
   "cell_type": "code",
   "execution_count": 3,
   "id": "b9daf360-910c-460a-bdb1-f4562ba1b34d",
   "metadata": {},
   "outputs": [
    {
     "name": "stdout",
     "output_type": "stream",
     "text": [
      "0    1\n",
      "1    7\n",
      "2    2\n",
      "dtype: int64\n",
      "1\n"
     ]
    }
   ],
   "source": [
    "#Labels: If nothing else is specified, the values are labeled with their index number. \n",
    "import pandas as pd\n",
    "a = [1, 7, 2]\n",
    "myvar = pd.Series(a)\n",
    "print(myvar)\n",
    "print(myvar[0])"
   ]
  },
  {
   "cell_type": "code",
   "execution_count": 4,
   "id": "b28be801-ef97-46e3-b7f1-2dde216637ca",
   "metadata": {},
   "outputs": [
    {
     "name": "stdout",
     "output_type": "stream",
     "text": [
      "x    2\n",
      "y    6\n",
      "z    9\n",
      "dtype: int64\n"
     ]
    }
   ],
   "source": [
    "#Create your own labels:\n",
    "import pandas as pd\n",
    "a = [2, 6, 9]\n",
    "myvar = pd.Series(a, index = [\"x\", \"y\", \"z\"])\n",
    "print(myvar)"
   ]
  },
  {
   "cell_type": "code",
   "execution_count": 5,
   "id": "f2f35dad-5d17-4924-8cf3-e5a403fc5621",
   "metadata": {},
   "outputs": [
    {
     "name": "stdout",
     "output_type": "stream",
     "text": [
      "day1    420\n",
      "day2    380\n",
      "day3    390\n",
      "dtype: int64\n"
     ]
    }
   ],
   "source": [
    "#Key/Value Objects as Series\n",
    "#You can also use a key/value object, like a dictionary, when creating a Series.\n",
    "#Create a simple Pandas Series from a dictionary:\n",
    "import pandas as pd\n",
    "calories = {\"day1\": 420, \"day2\": 380, \"day3\": 390}\n",
    "myvar = pd.Series(calories)\n",
    "print(myvar)"
   ]
  },
  {
   "cell_type": "code",
   "execution_count": 6,
   "id": "0b5b7710-c33f-4ed5-9ae7-9572c7d6922f",
   "metadata": {},
   "outputs": [
    {
     "name": "stdout",
     "output_type": "stream",
     "text": [
      "Series([], dtype: object)\n"
     ]
    }
   ],
   "source": [
    "#Creating an empty Series: Series() function of Pandas is used to create a series. A basic series, which can be created is an Empty Series. \n",
    "# import pandas as pd\n",
    "import pandas as pd\n",
    "# Creating empty series\n",
    "ser = pd.Series()\n",
    "print(ser)"
   ]
  },
  {
   "cell_type": "code",
   "execution_count": 7,
   "id": "48dc62c6-4fc9-4564-8c9a-011f2a087097",
   "metadata": {},
   "outputs": [
    {
     "name": "stdout",
     "output_type": "stream",
     "text": [
      "0    g\n",
      "1    e\n",
      "2    e\n",
      "3    k\n",
      "4    s\n",
      "dtype: object\n"
     ]
    }
   ],
   "source": [
    "#Creating a series from array: In order to create a series from NumPy array, we have to import numpy module and have to use array() function. \n",
    "# import pandas as pd\n",
    "import pandas as pd\n",
    "# import numpy as np\n",
    "import numpy as np\n",
    "# simple array\n",
    "data = np.array(['g', 'e', 'e', 'k', 's'])\n",
    "ser = pd.Series(data)\n",
    "print(ser)"
   ]
  },
  {
   "cell_type": "code",
   "execution_count": 8,
   "id": "b149e446-a2f4-4223-a2c3-2fbd1b349503",
   "metadata": {},
   "outputs": [
    {
     "name": "stdout",
     "output_type": "stream",
     "text": [
      "10    g\n",
      "11    e\n",
      "12    e\n",
      "13    k\n",
      "14    s\n",
      "dtype: object\n"
     ]
    }
   ],
   "source": [
    "#Creating a series from array with an index\n",
    "# import pandas as pd\n",
    "import pandas as pd\n",
    "# import numpy as np\n",
    "import numpy as np\n",
    "# simple array\n",
    "data = np.array(['g', 'e', 'e', 'k', 's']) \n",
    "# providing an index\n",
    "ser = pd.Series(data, index=[10, 11, 12, 13, 14])\n",
    "print(ser)"
   ]
  },
  {
   "cell_type": "code",
   "execution_count": 9,
   "id": "494c71c5-6e28-443f-a3eb-485188c613a2",
   "metadata": {},
   "outputs": [
    {
     "name": "stdout",
     "output_type": "stream",
     "text": [
      "0    g\n",
      "1    e\n",
      "2    e\n",
      "3    k\n",
      "4    s\n",
      "dtype: object\n"
     ]
    }
   ],
   "source": [
    "#Creating a series from Lists\n",
    "import pandas as pd\n",
    "# a simple list\n",
    "list = ['g', 'e', 'e', 'k', 's']\n",
    "# create series form a list\n",
    "ser = pd.Series(list)\n",
    "print(ser)"
   ]
  },
  {
   "cell_type": "code",
   "execution_count": 10,
   "id": "994bfa48-1d02-4d4c-a95f-c30fae292bce",
   "metadata": {},
   "outputs": [
    {
     "name": "stdout",
     "output_type": "stream",
     "text": [
      "Geeks    10\n",
      "for      20\n",
      "geeks    30\n",
      "dtype: int64\n"
     ]
    }
   ],
   "source": [
    "#Creating a series from Dictionary:\n",
    "import pandas as pd\n",
    "# a simple dictionary\n",
    "dict = {'Geeks': 10,\n",
    "        'for': 20,\n",
    "        'geeks': 30}\n",
    "# create series from dictionary\n",
    "ser = pd.Series(dict)\n",
    "print(ser)"
   ]
  },
  {
   "cell_type": "code",
   "execution_count": 11,
   "id": "e2382841-efa0-4b08-851a-0aadbda9cc7a",
   "metadata": {},
   "outputs": [
    {
     "name": "stdout",
     "output_type": "stream",
     "text": [
      "0    10\n",
      "1    10\n",
      "2    10\n",
      "3    10\n",
      "4    10\n",
      "5    10\n",
      "dtype: int64\n"
     ]
    }
   ],
   "source": [
    "#Creating a series from Scalar value:\n",
    "import pandas as pd\n",
    "import numpy as np \n",
    "# giving a scalar value with index\n",
    "ser = pd.Series(10, index=[0, 1, 2, 3, 4, 5])\n",
    "print(ser)"
   ]
  },
  {
   "cell_type": "code",
   "execution_count": 12,
   "id": "3b2a0640-8e48-45c2-be14-e0c2d7ea2f8f",
   "metadata": {},
   "outputs": [
    {
     "name": "stdout",
     "output_type": "stream",
     "text": [
      "0    0\n",
      "1    1\n",
      "2    2\n",
      "3    3\n",
      "4    4\n",
      "5    5\n",
      "6    6\n",
      "7    7\n",
      "8    8\n",
      "9    9\n",
      "dtype: int64\n"
     ]
    }
   ],
   "source": [
    "#Creating a Series using range function:\n",
    "import pandas as pd\n",
    "ser=pd.Series(range(10))\n",
    "print(ser)"
   ]
  },
  {
   "cell_type": "code",
   "execution_count": 13,
   "id": "927781cf-ecc1-4192-853d-a6be723320d5",
   "metadata": {},
   "outputs": [
    {
     "name": "stdout",
     "output_type": "stream",
     "text": [
      "a     1\n",
      "b     4\n",
      "c     7\n",
      "d    10\n",
      "e    13\n",
      "f    16\n",
      "g    19\n",
      "dtype: int64\n"
     ]
    }
   ],
   "source": [
    "#Creating a Series using for loop and list comprehension:\n",
    "import pandas as pd\n",
    "ser=pd.Series(range(1,20,3), index=[x for x in 'abcdefg'])\n",
    "print(ser)"
   ]
  },
  {
   "cell_type": "code",
   "execution_count": 14,
   "id": "f9aed471-ff81-4398-8243-a982d5aec81e",
   "metadata": {},
   "outputs": [
    {
     "name": "stdout",
     "output_type": "stream",
     "text": [
      "10    50\n",
      "11    55\n",
      "12    60\n",
      "13    65\n",
      "14    70\n",
      "dtype: int32\n"
     ]
    }
   ],
   "source": [
    "#Creating a Series using mathematical expressions:\n",
    "import pandas as pd\n",
    "import numpy as np\n",
    "ser=np.arange(10,15)\n",
    "serobj=pd.Series(data=ser*5,index=ser)\n",
    "print(serobj)"
   ]
  },
  {
   "cell_type": "code",
   "execution_count": 19,
   "id": "92572ca5-f1b8-43e3-b3a3-4e35cc15bbdc",
   "metadata": {},
   "outputs": [
    {
     "name": "stdout",
     "output_type": "stream",
     "text": [
      "0    11\n",
      "1    22\n",
      "2    33\n",
      "3    44\n",
      "4    55\n",
      "dtype: int64\n",
      "0     10\n",
      "1     40\n",
      "2     90\n",
      "3    160\n",
      "4    250\n",
      "dtype: int64\n"
     ]
    }
   ],
   "source": [
    "#Basic Operations on Series\n",
    "#Arithmetic Operations\n",
    "import pandas as pd\n",
    "data1 = [10, 20, 30, 40, 50]\n",
    "data2 = [1, 2, 3, 4, 5]\n",
    "series1 = pd.Series(data1)\n",
    "series2 = pd.Series(data2)\n",
    "sum_series = series1 + series2\n",
    "print(sum_series)\n",
    "product_series = series1 * series2\n",
    "print(product_series)"
   ]
  },
  {
   "cell_type": "code",
   "execution_count": 20,
   "id": "7949a0b9-72f6-48be-819e-0326d18dd22f",
   "metadata": {},
   "outputs": [
    {
     "name": "stdout",
     "output_type": "stream",
     "text": [
      "0     100\n",
      "1     400\n",
      "2     900\n",
      "3    1600\n",
      "4    2500\n",
      "dtype: int64\n",
      "0    3.162278\n",
      "1    4.472136\n",
      "2    5.477226\n",
      "3    6.324555\n",
      "4    7.071068\n",
      "dtype: float64\n"
     ]
    }
   ],
   "source": [
    "# apply element-wise operations using built-in functions\n",
    "import pandas as pd\n",
    "import numpy as np\n",
    "data = [10, 20, 30, 40, 50]\n",
    "series = pd.Series(data)\n",
    "squared_series = np.square(series)\n",
    "sqrt_series = np.sqrt(series)\n",
    "print(squared_series)\n",
    "print(sqrt_series)"
   ]
  },
  {
   "cell_type": "code",
   "execution_count": 24,
   "id": "8d6e8060-397b-4f87-bde6-49be7e7bf595",
   "metadata": {},
   "outputs": [
    {
     "name": "stdout",
     "output_type": "stream",
     "text": [
      "0    1\n",
      "1    3\n",
      "2    5\n",
      "3    6\n",
      "4    8\n",
      "dtype: int64\n"
     ]
    }
   ],
   "source": [
    "#Indexing/Selection: Accessing data from series with position\n",
    "import pandas as pd\n",
    "s = pd.Series([1, 3, 5, 6, 8])\n",
    "print(s)"
   ]
  },
  {
   "cell_type": "code",
   "execution_count": 25,
   "id": "1afe3131-f13e-4128-ae77-996c690f6959",
   "metadata": {},
   "outputs": [
    {
     "name": "stdout",
     "output_type": "stream",
     "text": [
      "1\n",
      "1    3\n",
      "2    5\n",
      "dtype: int64\n",
      "0    1\n",
      "2    5\n",
      "4    8\n",
      "dtype: int64\n"
     ]
    }
   ],
   "source": [
    "#Indexing/Selection: Accessing data from series with position\n",
    "import pandas as pd\n",
    "print(s[0])\n",
    "print(s[1:3])\n",
    "print(s[[0, 2, 4]])"
   ]
  },
  {
   "cell_type": "code",
   "execution_count": 26,
   "id": "b6ae32e2-d31f-4958-b310-608fbee155cf",
   "metadata": {},
   "outputs": [
    {
     "name": "stdout",
     "output_type": "stream",
     "text": [
      "0    999\n",
      "1      3\n",
      "2      5\n",
      "3      6\n",
      "4      8\n",
      "dtype: int64\n"
     ]
    }
   ],
   "source": [
    "## Assigning a new value at index 0\n",
    "s[0] = 999\n",
    "print(s)"
   ]
  },
  {
   "cell_type": "code",
   "execution_count": 27,
   "id": "1c77d303-7ac0-45c8-a4de-ab951deb1caa",
   "metadata": {},
   "outputs": [
    {
     "name": "stdout",
     "output_type": "stream",
     "text": [
      "1    3\n",
      "2    5\n",
      "3    6\n",
      "4    8\n",
      "dtype: int64\n"
     ]
    }
   ],
   "source": [
    "# Deleting an item at index 0\n",
    "s = s.drop([0])\n",
    "print(s)"
   ]
  },
  {
   "cell_type": "code",
   "execution_count": 28,
   "id": "6ba1d5fe-664b-41e8-84dd-b042e876d7d6",
   "metadata": {},
   "outputs": [
    {
     "name": "stdout",
     "output_type": "stream",
     "text": [
      "1     5\n",
      "2     7\n",
      "3     8\n",
      "4    10\n",
      "dtype: int64\n"
     ]
    }
   ],
   "source": [
    "# Adding a constant to a series\n",
    "s = s + 2\n",
    "print(s)"
   ]
  },
  {
   "cell_type": "code",
   "execution_count": 29,
   "id": "6005d7df-f837-41c2-8036-a67288bbf20e",
   "metadata": {},
   "outputs": [
    {
     "name": "stdout",
     "output_type": "stream",
     "text": [
      "1    15\n",
      "2    21\n",
      "3    24\n",
      "4    30\n",
      "dtype: int64\n"
     ]
    }
   ],
   "source": [
    "# Multiplying a series with a constant\n",
    "s = s * 3\n",
    "print(s)"
   ]
  },
  {
   "cell_type": "code",
   "execution_count": 30,
   "id": "2e4bdad3-44c5-4241-82a0-897a0467a1f8",
   "metadata": {},
   "outputs": [
    {
     "name": "stdout",
     "output_type": "stream",
     "text": [
      "90\n"
     ]
    }
   ],
   "source": [
    "#Statistical Operations: You can perform various statistical operations on Series like count, sum, mean, median, mode, min, max, standard deviation, variance, etc.\n",
    "# Sum of all values in series\n",
    "print(s.sum())"
   ]
  },
  {
   "cell_type": "code",
   "execution_count": 31,
   "id": "0f1335f6-cee6-4820-bada-67ce7d3705f2",
   "metadata": {},
   "outputs": [
    {
     "name": "stdout",
     "output_type": "stream",
     "text": [
      "22.5\n"
     ]
    }
   ],
   "source": [
    "## Mean of all values in series\n",
    "print(s.mean())"
   ]
  },
  {
   "cell_type": "code",
   "execution_count": 32,
   "id": "57404fa6-0c81-4b18-b22f-5c2f6640013b",
   "metadata": {},
   "outputs": [
    {
     "name": "stdout",
     "output_type": "stream",
     "text": [
      "[15, 21, 24, 30]\n"
     ]
    }
   ],
   "source": [
    "#Conversion: Converting Series into other data structures.\n",
    "# Converting series to a list\n",
    "list_s = s.tolist()\n",
    "print(list_s)"
   ]
  },
  {
   "cell_type": "code",
   "execution_count": 33,
   "id": "6f210f6b-05e5-4451-a133-6ddbb0e44529",
   "metadata": {},
   "outputs": [
    {
     "name": "stdout",
     "output_type": "stream",
     "text": [
      "{1: 15, 2: 21, 3: 24, 4: 30}\n"
     ]
    }
   ],
   "source": [
    "# Converting series to a dictionary\n",
    "dict_s = s.to_dict()\n",
    "print(dict_s)"
   ]
  },
  {
   "cell_type": "code",
   "execution_count": 34,
   "id": "218e9081-c331-4263-90be-f9eeb62435ea",
   "metadata": {},
   "outputs": [
    {
     "name": "stdout",
     "output_type": "stream",
     "text": [
      "1    15\n",
      "2    21\n",
      "3    24\n",
      "4    30\n",
      "dtype: int64\n"
     ]
    }
   ],
   "source": [
    "#Sorting: You can sort a series by its index or its values.\n",
    "s = s.sort_index()\n",
    "print(s)"
   ]
  },
  {
   "cell_type": "code",
   "execution_count": 35,
   "id": "a967e794-4961-467e-99e7-b49b960da146",
   "metadata": {},
   "outputs": [
    {
     "name": "stdout",
     "output_type": "stream",
     "text": [
      "1    15\n",
      "2    21\n",
      "3    24\n",
      "4    30\n",
      "dtype: int64\n"
     ]
    }
   ],
   "source": [
    "# Sorting by values\n",
    "s = s.sort_values()\n",
    "print(s)"
   ]
  },
  {
   "cell_type": "code",
   "execution_count": 36,
   "id": "bac2f7be-6bf1-4127-af21-bfa446b05e54",
   "metadata": {},
   "outputs": [
    {
     "name": "stdout",
     "output_type": "stream",
     "text": [
      "1    False\n",
      "2    False\n",
      "3    False\n",
      "4    False\n",
      "dtype: bool\n"
     ]
    }
   ],
   "source": [
    "# Handling Missing Data: You can detect and/or eliminate missing data.\n",
    "print(s.isnull())\n"
   ]
  },
  {
   "cell_type": "code",
   "execution_count": 37,
   "id": "73b698aa-e98b-4671-9aaa-1b965b896a22",
   "metadata": {},
   "outputs": [
    {
     "name": "stdout",
     "output_type": "stream",
     "text": [
      "1    225\n",
      "2    441\n",
      "3    576\n",
      "4    900\n",
      "dtype: int64\n"
     ]
    }
   ],
   "source": [
    "#Applying functions: You can apply functions to a series\n",
    "s = s.apply(lambda x: x**2)\n",
    "print(s)"
   ]
  }
 ],
 "metadata": {
  "kernelspec": {
   "display_name": "Python 3 (ipykernel)",
   "language": "python",
   "name": "python3"
  },
  "language_info": {
   "codemirror_mode": {
    "name": "ipython",
    "version": 3
   },
   "file_extension": ".py",
   "mimetype": "text/x-python",
   "name": "python",
   "nbconvert_exporter": "python",
   "pygments_lexer": "ipython3",
   "version": "3.11.7"
  }
 },
 "nbformat": 4,
 "nbformat_minor": 5
}
