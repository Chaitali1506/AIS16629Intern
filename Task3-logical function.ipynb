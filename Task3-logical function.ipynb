{
 "cells": [
  {
   "cell_type": "code",
   "execution_count": 1,
   "id": "04129b83-f355-443e-9f57-d70a63c34f92",
   "metadata": {},
   "outputs": [
    {
     "name": "stdin",
     "output_type": "stream",
     "text": [
      "Enter a number:  82\n"
     ]
    },
    {
     "name": "stdout",
     "output_type": "stream",
     "text": [
      "82 is Even.\n"
     ]
    }
   ],
   "source": [
    "#logical user defined function\n",
    "def even_odd(number):\n",
    "    if number % 2 == 0:\n",
    "        return \"Even\"\n",
    "    else:\n",
    "        return \"Odd\"\n",
    "user_input = int(input(\"Enter a number: \"))\n",
    "result = even_odd(user_input)\n",
    "print(f\"{user_input} is {result}.\")"
   ]
  },
  {
   "cell_type": "code",
   "execution_count": 2,
   "id": "cd3795c5-16e3-4138-a98c-dd1f922ede3b",
   "metadata": {},
   "outputs": [
    {
     "name": "stdout",
     "output_type": "stream",
     "text": [
      "Grade: D\n"
     ]
    }
   ],
   "source": [
    "import bisect\n",
    "def determine_grade(scores, breakpoints=[50, 60, 70, 80, 90], grades='FEDCBA'):\n",
    "    i = bisect.bisect(breakpoints, scores)\n",
    "    return grades[i]\n",
    "student_score = 68\n",
    "print(f\"Grade: {determine_grade(student_score)}\")"
   ]
  },
  {
   "cell_type": "code",
   "execution_count": 3,
   "id": "5c3e66b0-533d-42f3-83ae-ddb0f90adbbe",
   "metadata": {},
   "outputs": [
    {
     "name": "stdout",
     "output_type": "stream",
     "text": [
      "The sum is 11\n"
     ]
    }
   ],
   "source": [
    "def add_numbers(x, y):\n",
    "    sum = x + y\n",
    "    return sum\n",
    "num1 = 5\n",
    "num2 = 6\n",
    "print(\"The sum is\", add_numbers(num1, num2))"
   ]
  },
  {
   "cell_type": "code",
   "execution_count": 4,
   "id": "0c40b1bb-0fc2-4003-baea-aacab0a3c8e4",
   "metadata": {},
   "outputs": [
    {
     "name": "stdout",
     "output_type": "stream",
     "text": [
      "The floor of 2.3 is: 2\n"
     ]
    }
   ],
   "source": [
    "import math\n",
    "def calculate_floor(number):\n",
    "    return math.floor(number)\n",
    "a = 2.3\n",
    "print(f\"The floor of {a} is: {calculate_floor(a)}\")"
   ]
  },
  {
   "cell_type": "code",
   "execution_count": 11,
   "id": "3f461bbc-2e9e-4489-b1eb-67375df932a1",
   "metadata": {},
   "outputs": [
    {
     "name": "stdout",
     "output_type": "stream",
     "text": [
      "30\n",
      "35\n"
     ]
    }
   ],
   "source": [
    "def sum(a, b): \n",
    "    return a + b\n",
    "total=sum(10, 20) \n",
    "print(total)\n",
    "total=sum(5, sum(10, 20))\n",
    "print(total)"
   ]
  },
  {
   "cell_type": "code",
   "execution_count": 12,
   "id": "fccb4287-2f0a-4601-a467-9adbc458c2bb",
   "metadata": {},
   "outputs": [
    {
     "name": "stdout",
     "output_type": "stream",
     "text": [
      "x:  10\n",
      "y:  50\n"
     ]
    }
   ],
   "source": [
    "def myFun(x, y = 50): \n",
    "    print(\"x: \", x) \n",
    "    print(\"y: \", y)\n",
    "myFun(10) "
   ]
  },
  {
   "cell_type": "code",
   "execution_count": 13,
   "id": "bf41f3bc-cdbb-4486-a0f9-19682fa9eba2",
   "metadata": {},
   "outputs": [
    {
     "name": "stdout",
     "output_type": "stream",
     "text": [
      "Value passed: 12 id: 140720481879176\n",
      "Value received: 12 id: 140720481879176\n"
     ]
    }
   ],
   "source": [
    "def myFun(x):\n",
    "    print(\"Value received:\", x, \"id:\", id(x))\n",
    "x = 12\n",
    "print(\"Value passed:\", x, \"id:\", id(x))\n",
    "myFun(x)"
   ]
  },
  {
   "cell_type": "code",
   "execution_count": 14,
   "id": "03583cb5-d42a-453e-8710-4ee81295d93b",
   "metadata": {},
   "outputs": [
    {
     "name": "stdout",
     "output_type": "stream",
     "text": [
      "Result of add function is 5\n",
      "\n",
      "Result of is_true function is True\n"
     ]
    }
   ],
   "source": [
    "def add(a, b):\n",
    "    return a + b\n",
    "def is_true(a):\n",
    "    return bool(a)\n",
    "res = add(2, 3)\n",
    "print(\"Result of add function is {}\".format(res))\n",
    "res = is_true(2 < 5)\n",
    "print(\"\\nResult of is_true function is {}\".format(res))"
   ]
  },
  {
   "cell_type": "code",
   "execution_count": 15,
   "id": "b6d71b72-fede-4b15-af99-0adab5d55ae0",
   "metadata": {},
   "outputs": [
    {
     "name": "stdout",
     "output_type": "stream",
     "text": [
      "Average of  3  and  4  is  3.5\n"
     ]
    }
   ],
   "source": [
    "def avg_number(x, y):\n",
    "    print(\"Average of \",x,\" and \",y, \" is \",(x+y)/2)\n",
    "avg_number(3, 4)"
   ]
  },
  {
   "cell_type": "code",
   "execution_count": 16,
   "id": "3aeb01f2-d792-4b3e-890e-a3eba7cfcf00",
   "metadata": {},
   "outputs": [
    {
     "name": "stdout",
     "output_type": "stream",
     "text": [
      "The square of the sum of 2 and 3 is :  25\n"
     ]
    }
   ],
   "source": [
    "def nsquare(x, y):\n",
    "    return (x*x + 2*x*y + y*y)\n",
    "print(\"The square of the sum of 2 and 3 is : \", nsquare(2, 3))"
   ]
  }
 ],
 "metadata": {
  "kernelspec": {
   "display_name": "Python 3 (ipykernel)",
   "language": "python",
   "name": "python3"
  },
  "language_info": {
   "codemirror_mode": {
    "name": "ipython",
    "version": 3
   },
   "file_extension": ".py",
   "mimetype": "text/x-python",
   "name": "python",
   "nbconvert_exporter": "python",
   "pygments_lexer": "ipython3",
   "version": "3.11.7"
  }
 },
 "nbformat": 4,
 "nbformat_minor": 5
}
