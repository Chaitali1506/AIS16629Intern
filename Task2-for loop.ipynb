{
 "cells": [
  {
   "cell_type": "code",
   "execution_count": null,
   "id": "709242f5-0908-4d79-a697-2db1c0c6d389",
   "metadata": {},
   "outputs": [],
   "source": [
    "#A for loop is used for iterating over a sequence (that is either a list, a tuple, a dictionary, a set, or a string).\n",
    "#This is less like the for keyword in other programming languages, and works more like an iterator method as found in \n",
    "#other object-orientated programming languages.With the for loop we can execute a set of statements, once for each item in a list, tuple, set etc."
   ]
  },
  {
   "cell_type": "code",
   "execution_count": 30,
   "id": "362dc893-9fa7-4a31-a58a-266aa57c998e",
   "metadata": {},
   "outputs": [
    {
     "name": "stdout",
     "output_type": "stream",
     "text": [
      "apple\n"
     ]
    }
   ],
   "source": [
    "fruits = [\"apple\", \"banana\", \"cherry\"]\n",
    "for x in fruits:\n",
    "  if x == \"banana\":\n",
    "    break\n",
    "  print(x)"
   ]
  },
  {
   "cell_type": "code",
   "execution_count": 31,
   "id": "f10c8f48-93f2-4665-90b8-81ad2c63673a",
   "metadata": {},
   "outputs": [
    {
     "name": "stdout",
     "output_type": "stream",
     "text": [
      "0\n",
      "1\n",
      "2\n",
      "3\n",
      "4\n",
      "5\n",
      "Finally finished!\n"
     ]
    }
   ],
   "source": [
    "for x in range(6):\n",
    "  print(x)\n",
    "else:\n",
    "  print(\"Finally finished!\")"
   ]
  },
  {
   "cell_type": "code",
   "execution_count": 32,
   "id": "ed6f1b51-6b3c-494e-8c3d-dc31447ca4d8",
   "metadata": {},
   "outputs": [
    {
     "name": "stdout",
     "output_type": "stream",
     "text": [
      "red apple\n",
      "red banana\n",
      "red cherry\n",
      "big apple\n",
      "big banana\n",
      "big cherry\n",
      "tasty apple\n",
      "tasty banana\n",
      "tasty cherry\n"
     ]
    }
   ],
   "source": [
    "adj = [\"red\", \"big\", \"tasty\"]\n",
    "fruits = [\"apple\", \"banana\", \"cherry\"]\n",
    "for x in adj:\n",
    "  for y in fruits:\n",
    "    print(x, y)"
   ]
  },
  {
   "cell_type": "code",
   "execution_count": 33,
   "id": "d3c19255-45a0-4cc3-8f10-cc31bef8c6a9",
   "metadata": {},
   "outputs": [
    {
     "name": "stdout",
     "output_type": "stream",
     "text": [
      "0\n",
      "1\n",
      "2\n",
      "3\n"
     ]
    }
   ],
   "source": [
    "# iterate from i = 0 to i = 3\n",
    "for i in range(4):\n",
    "    print(i)"
   ]
  },
  {
   "cell_type": "code",
   "execution_count": 34,
   "id": "1ab858e5-6294-4810-b360-b1ac0455f041",
   "metadata": {},
   "outputs": [
    {
     "name": "stdout",
     "output_type": "stream",
     "text": [
      "65\n"
     ]
    }
   ],
   "source": [
    "given_number = 10\n",
    "sum =10\n",
    "for i in range(1,given_number+1):\n",
    "        sum+=i\n",
    "print(sum)"
   ]
  },
  {
   "cell_type": "code",
   "execution_count": 35,
   "id": "f5da393a-2d22-4ae6-8ef0-6745039618dc",
   "metadata": {},
   "outputs": [
    {
     "name": "stdout",
     "output_type": "stream",
     "text": [
      "5  x 0  = 0\n",
      "5  x 1  = 5\n",
      "5  x 2  = 10\n",
      "5  x 3  = 15\n",
      "5  x 4  = 20\n",
      "5  x 5  = 25\n",
      "5  x 6  = 30\n",
      "5  x 7  = 35\n",
      "5  x 8  = 40\n",
      "5  x 9  = 45\n",
      "5  x 10  = 50\n"
     ]
    }
   ],
   "source": [
    "given_number = 5\n",
    "for i in range(11):\n",
    "        print (given_number,\" x\",i,\" =\",5*i)"
   ]
  },
  {
   "cell_type": "code",
   "execution_count": 37,
   "id": "37f7af19-e93e-41be-8fce-873b4931423c",
   "metadata": {},
   "outputs": [
    {
     "name": "stdout",
     "output_type": "stream",
     "text": [
      "1\n",
      "2\n",
      "4\n",
      "6\n",
      "88\n",
      "125\n"
     ]
    }
   ],
   "source": [
    "list = [1,2,4,6,88,125]\n",
    "for i in list:\n",
    "    print(i)"
   ]
  },
  {
   "cell_type": "code",
   "execution_count": 42,
   "id": "e0b25b10-9045-4666-a323-144c7b6bcc46",
   "metadata": {},
   "outputs": [
    {
     "name": "stdout",
     "output_type": "stream",
     "text": [
      "6\n"
     ]
    }
   ],
   "source": [
    "given_number = 129475\n",
    "given_number = str(given_number)\n",
    "count=0\n",
    "for i in given_number:\n",
    "        count += 1\n",
    "print(count)"
   ]
  },
  {
   "cell_type": "code",
   "execution_count": 43,
   "id": "0e9ffda9-239c-441d-87a2-d566cd3c73e3",
   "metadata": {},
   "outputs": [
    {
     "name": "stdin",
     "output_type": "stream",
     "text": [
      " 2,4,6,8,9\n"
     ]
    },
    {
     "name": "stdout",
     "output_type": "stream",
     "text": [
      "9,8,6,4,2\n"
     ]
    }
   ],
   "source": [
    "given_string = input()\n",
    "reverse_string = \"\"\n",
    "for i in given_string:\n",
    "    reverse_string = i + reverse_string\n",
    "print(reverse_string)"
   ]
  },
  {
   "cell_type": "code",
   "execution_count": 45,
   "id": "9f85e2ba-1acc-4ba3-88c5-ab397fc1a00d",
   "metadata": {},
   "outputs": [
    {
     "name": "stdout",
     "output_type": "stream",
     "text": [
      "The given number 153 is an Amstrong number.\n"
     ]
    }
   ],
   "source": [
    "given_number = 153\n",
    "given_number = str(given_number)\n",
    "string_length = len(given_number)\n",
    "sum = 0\n",
    "for i in given_number:\n",
    "    sum += int(i)**string_length\n",
    "if sum == int(given_number):\n",
    "    print(\"The given number\",given_number,\"is an Amstrong number.\")\n",
    "else:\n",
    "    print(\"The given number\",given_number,\"is Not an Amstrong number.\")\n"
   ]
  },
  {
   "cell_type": "code",
   "execution_count": 47,
   "id": "3819477a-a80c-4162-9850-101eb3bf2a42",
   "metadata": {},
   "outputs": [
    {
     "name": "stdout",
     "output_type": "stream",
     "text": [
      "1 is an odd number.\n",
      "3 is an odd number.\n",
      "5 is an odd number.\n",
      "6 is an even number.\n",
      "99 is an odd number.\n",
      "134 is an even number.\n",
      "55 is an odd number.\n"
     ]
    }
   ],
   "source": [
    "num_list = [1,3,5,6,99,134,55]\n",
    "for i in num_list:\n",
    "    if i%2==0:\n",
    "        print(i,\"is an even number.\")\n",
    "    else:\n",
    "        print(i,\"is an odd number.\")"
   ]
  }
 ],
 "metadata": {
  "kernelspec": {
   "display_name": "Python 3 (ipykernel)",
   "language": "python",
   "name": "python3"
  },
  "language_info": {
   "codemirror_mode": {
    "name": "ipython",
    "version": 3
   },
   "file_extension": ".py",
   "mimetype": "text/x-python",
   "name": "python",
   "nbconvert_exporter": "python",
   "pygments_lexer": "ipython3",
   "version": "3.11.7"
  }
 },
 "nbformat": 4,
 "nbformat_minor": 5
}
