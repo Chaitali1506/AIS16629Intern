{
 "cells": [
  {
   "cell_type": "code",
   "execution_count": null,
   "id": "6b98ec8f-ca19-4e95-bb12-89880fc993c4",
   "metadata": {},
   "outputs": [],
   "source": [
    "#Sets are used to store multiple items in a single variable.\n",
    "#Set is one of 4 built-in data types in Python used to store collections of data, the other 3 are List, Tuple, and Dictionary, all with different qualities and usage.\n",
    "#A set is a collection which is unordered, unchangeable*, and unindexed.\n",
    "#Note: Set items are unchangeable, but you can remove items and add new item. sets are written in curly bracket."
   ]
  },
  {
   "cell_type": "code",
   "execution_count": 1,
   "id": "17722478-2341-4037-94c1-63775ad240db",
   "metadata": {},
   "outputs": [
    {
     "name": "stdout",
     "output_type": "stream",
     "text": [
      "{'apple', 'banana', 'cherry'}\n"
     ]
    }
   ],
   "source": [
    "thisset = {\"apple\", \"banana\", \"cherry\"}\n",
    "print(thisset)"
   ]
  },
  {
   "cell_type": "code",
   "execution_count": 2,
   "id": "09537579-5d37-4298-b3a3-c28ab5587a8d",
   "metadata": {},
   "outputs": [
    {
     "name": "stdout",
     "output_type": "stream",
     "text": [
      "{'cherry', 'banana', 'apple'}\n"
     ]
    }
   ],
   "source": [
    "#Set items are unordered, unchangeable, and do not allow duplicate values.\n",
    "thisset = {\"apple\", \"banana\", \"cherry\", \"apple\"}\n",
    "print(thisset)"
   ]
  },
  {
   "cell_type": "code",
   "execution_count": 3,
   "id": "4b90e911-a74c-4907-88e2-75202b71664f",
   "metadata": {},
   "outputs": [
    {
     "name": "stdout",
     "output_type": "stream",
     "text": [
      "{True, 2, 'banana', 'cherry', 'apple'}\n"
     ]
    }
   ],
   "source": [
    "thisset = {\"apple\", \"banana\", \"cherry\", True, 1, 2}\n",
    "print(thisset)"
   ]
  },
  {
   "cell_type": "code",
   "execution_count": 4,
   "id": "02977789-0dea-4a1d-b70b-69fdd4f4cbcb",
   "metadata": {},
   "outputs": [
    {
     "name": "stdout",
     "output_type": "stream",
     "text": [
      "cherry\n",
      "banana\n",
      "apple\n"
     ]
    }
   ],
   "source": [
    "#You cannot access items in a set by referring to an index or a key.\n",
    "#But you can loop through the set items using a for loop, or ask if a specified value is present in a set, by using the in keyword.\n",
    "thisset = {\"apple\", \"banana\", \"cherry\"}\n",
    "for x in thisset:\n",
    "  print(x)"
   ]
  },
  {
   "cell_type": "code",
   "execution_count": 5,
   "id": "e3099a0c-1a53-410e-a722-5f5396d22da4",
   "metadata": {},
   "outputs": [
    {
     "name": "stdout",
     "output_type": "stream",
     "text": [
      "True\n"
     ]
    }
   ],
   "source": [
    "thisset = {\"apple\", \"banana\", \"cherry\"}\n",
    "print(\"banana\" in thisset)"
   ]
  },
  {
   "cell_type": "code",
   "execution_count": 6,
   "id": "f91abc3b-a4a0-4c68-8044-605e155b93ea",
   "metadata": {},
   "outputs": [
    {
     "name": "stdout",
     "output_type": "stream",
     "text": [
      "{'orange', 'cherry', 'banana', 'apple'}\n"
     ]
    }
   ],
   "source": [
    "#Add an item to a set, using the add() method:\n",
    "thisset = {\"apple\", \"banana\", \"cherry\"}\n",
    "thisset.add(\"orange\")\n",
    "print(thisset)"
   ]
  },
  {
   "cell_type": "code",
   "execution_count": null,
   "id": "e1c5177f-653a-4574-9926-82166b028cb0",
   "metadata": {},
   "outputs": [],
   "source": [
    "#to add items from another set into the current set, use the update() method.\n",
    "thisset = {\"apple\", \"banana\", \"cherry\"}\n",
    "tropical = {\"pineapple\", \"mango\", \"papaya\"}\n",
    "thisset.update(tropical)\n",
    "print(thisset)"
   ]
  },
  {
   "cell_type": "code",
   "execution_count": null,
   "id": "43087888-9543-4f6f-9534-9a8dce15a354",
   "metadata": {},
   "outputs": [],
   "source": [
    "#Add elements of a list to at set:\n",
    "thisset = {\"apple\", \"banana\", \"cherry\"}\n",
    "mylist = [\"kiwi\", \"orange\"]\n",
    "thisset.update(mylist)\n",
    "print(thisset)"
   ]
  },
  {
   "cell_type": "code",
   "execution_count": 7,
   "id": "a4226f4b-6cfc-4f41-985b-1ef446b89add",
   "metadata": {},
   "outputs": [
    {
     "name": "stdout",
     "output_type": "stream",
     "text": [
      "{'cherry', 'apple'}\n"
     ]
    }
   ],
   "source": [
    "#To remove an item in a set, use the remove(), or the discard() method.\n",
    "thisset = {\"apple\", \"banana\", \"cherry\"}\n",
    "thisset.remove(\"banana\")\n",
    "print(thisset)"
   ]
  },
  {
   "cell_type": "code",
   "execution_count": 8,
   "id": "080aab6e-1f21-4550-85fa-93aa55f34bf3",
   "metadata": {},
   "outputs": [
    {
     "name": "stdout",
     "output_type": "stream",
     "text": [
      "set()\n"
     ]
    }
   ],
   "source": [
    "#The clear() method empties the set:\n",
    "thisset = {\"apple\", \"banana\", \"cherry\"}\n",
    "thisset.clear()\n",
    "print(thisset)"
   ]
  },
  {
   "cell_type": "code",
   "execution_count": 9,
   "id": "54ecf9b4-a5b9-48e4-821c-9a943446f356",
   "metadata": {},
   "outputs": [
    {
     "name": "stdout",
     "output_type": "stream",
     "text": [
      "cherry\n",
      "banana\n",
      "apple\n"
     ]
    }
   ],
   "source": [
    "#Loop through the set, and print the values:\n",
    "thisset = {\"apple\", \"banana\", \"cherry\"}\n",
    "for x in thisset:\n",
    "  print(x)"
   ]
  },
  {
   "cell_type": "code",
   "execution_count": null,
   "id": "5c3f5a2e-6df4-4a6c-b4df-bbb0c227ce6f",
   "metadata": {},
   "outputs": [],
   "source": [
    "#The union() method returns a new set with all items from both sets.\n",
    "set1 = {\"a\", \"b\", \"c\"}\n",
    "set2 = {1, 2, 3}\n",
    "set3 = set1.union(set2)\n",
    "print(set3)"
   ]
  },
  {
   "cell_type": "code",
   "execution_count": 10,
   "id": "9f6d2278-4133-4d83-98ad-48a1be1f48d0",
   "metadata": {},
   "outputs": [
    {
     "name": "stdout",
     "output_type": "stream",
     "text": [
      "{1, 2, 3, 'b', 'c', 'apple', 'John', 'a', 'bananas', 'Elena', 'cherry'}\n"
     ]
    }
   ],
   "source": [
    "#All the joining methods and operators can be used to join multiple sets.\n",
    "#When using a method, just add more sets in the parentheses, separated by commas:\n",
    "set1 = {\"a\", \"b\", \"c\"}\n",
    "set2 = {1, 2, 3}\n",
    "set3 = {\"John\", \"Elena\"}\n",
    "set4 = {\"apple\", \"bananas\", \"cherry\"}\n",
    "myset = set1.union(set2, set3, set4)\n",
    "print(myset)"
   ]
  },
  {
   "cell_type": "code",
   "execution_count": 11,
   "id": "254ac91f-4f6c-45a0-ac2a-3e5ce6364bc9",
   "metadata": {},
   "outputs": [
    {
     "name": "stdout",
     "output_type": "stream",
     "text": [
      "{1, 2, 3, 'b', 'c', 'a'}\n"
     ]
    }
   ],
   "source": [
    "#Join a set with a tuple:\n",
    "x = {\"a\", \"b\", \"c\"}\n",
    "y = (1, 2, 3)\n",
    "z = x.union(y)\n",
    "print(z)"
   ]
  },
  {
   "cell_type": "code",
   "execution_count": 12,
   "id": "5157b358-e7ac-4c64-a7ae-a63b099d2579",
   "metadata": {},
   "outputs": [
    {
     "name": "stdout",
     "output_type": "stream",
     "text": [
      "{1, 'a', 2, 3, 'b', 'c'}\n"
     ]
    }
   ],
   "source": [
    "#The update() method inserts all items from one set into another.\n",
    "#The update() changes the original set, and does not return a new set.\n",
    "set1 = {\"a\", \"b\" , \"c\"}\n",
    "set2 = {1, 2, 3}\n",
    "set1.update(set2)\n",
    "print(set1)"
   ]
  },
  {
   "cell_type": "code",
   "execution_count": 13,
   "id": "60c89ce9-7053-4e76-93bb-81fc825503e7",
   "metadata": {},
   "outputs": [
    {
     "name": "stdout",
     "output_type": "stream",
     "text": [
      "{'banana', 'cherry'}\n"
     ]
    }
   ],
   "source": [
    "#the difference() method will return a new set that will contain only the items from the first set that are not present in the other set.\n",
    "set1 = {\"apple\", \"banana\", \"cherry\"}\n",
    "set2 = {\"google\", \"microsoft\", \"apple\"}\n",
    "set3 = set1.difference(set2)\n",
    "print(set3)"
   ]
  }
 ],
 "metadata": {
  "kernelspec": {
   "display_name": "Python 3 (ipykernel)",
   "language": "python",
   "name": "python3"
  },
  "language_info": {
   "codemirror_mode": {
    "name": "ipython",
    "version": 3
   },
   "file_extension": ".py",
   "mimetype": "text/x-python",
   "name": "python",
   "nbconvert_exporter": "python",
   "pygments_lexer": "ipython3",
   "version": "3.11.7"
  }
 },
 "nbformat": 4,
 "nbformat_minor": 5
}
