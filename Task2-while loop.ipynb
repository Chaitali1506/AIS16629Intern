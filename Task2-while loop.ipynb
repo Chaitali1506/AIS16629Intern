{
 "cells": [
  {
   "cell_type": "code",
   "execution_count": null,
   "id": "d14b9040-11e3-4a67-8f4a-439d79b0a64e",
   "metadata": {},
   "outputs": [],
   "source": [
    "#With the while loop we can execute a set of statements as long as a condition is true.\n",
    "#A while loop is a type of indefinite iteration . The while loop continues looping  as long as the condition remains true. \n",
    "#When the condition becomes false, the Loop terminates and the first statement after executing the loop body.\n",
    "#A while loop is a control flow statement which repeatedly executes a block of code until the condition is satisfied.\n",
    "#It stops executing the block only if the condition fails. One should use a 'while' loop when one needs to perform a repeated operation,\n",
    "#but doesn't know in advance how many iterations would be needed."
   ]
  },
  {
   "cell_type": "code",
   "execution_count": 1,
   "id": "5408557d-aaa3-4e02-8c97-14eda8cc9265",
   "metadata": {},
   "outputs": [
    {
     "name": "stdout",
     "output_type": "stream",
     "text": [
      "1\n",
      "2\n",
      "3\n",
      "4\n",
      "5\n"
     ]
    }
   ],
   "source": [
    "i = 1\n",
    "while i < 6:\n",
    "  print(i)\n",
    "  i += 1"
   ]
  },
  {
   "cell_type": "code",
   "execution_count": 2,
   "id": "4a2b580b-7827-421f-a12b-a9fa5021025b",
   "metadata": {},
   "outputs": [
    {
     "name": "stdout",
     "output_type": "stream",
     "text": [
      "1\n",
      "2\n",
      "3\n"
     ]
    }
   ],
   "source": [
    "#With the break statement we can stop the loop even if the while condition is true:\n",
    "i = 1\n",
    "while i < 6:\n",
    "  print(i)\n",
    "  if i == 3:\n",
    "    break\n",
    "  i += 1"
   ]
  },
  {
   "cell_type": "code",
   "execution_count": 3,
   "id": "324f3306-a246-4241-8288-efd096c1d599",
   "metadata": {},
   "outputs": [
    {
     "name": "stdout",
     "output_type": "stream",
     "text": [
      "1\n",
      "2\n",
      "4\n",
      "5\n",
      "6\n"
     ]
    }
   ],
   "source": [
    "i = 0\n",
    "while i < 6:\n",
    "  i += 1\n",
    "  if i == 3:\n",
    "    continue\n",
    "  print(i)"
   ]
  },
  {
   "cell_type": "code",
   "execution_count": 4,
   "id": "f531b22a-4c14-42db-a370-5216d1cd6b55",
   "metadata": {},
   "outputs": [
    {
     "name": "stdout",
     "output_type": "stream",
     "text": [
      "1\n",
      "2\n",
      "3\n",
      "4\n",
      "5\n",
      "i is no longer less than 6\n"
     ]
    }
   ],
   "source": [
    "i = 1\n",
    "while i < 6:\n",
    "  print(i)\n",
    "  i += 1\n",
    "else:\n",
    "  print(\"i is no longer less than 6\")"
   ]
  },
  {
   "cell_type": "code",
   "execution_count": 5,
   "id": "527fa0ac-7e77-486b-badd-4c9e6b53ba25",
   "metadata": {},
   "outputs": [
    {
     "name": "stdout",
     "output_type": "stream",
     "text": [
      "The first number divisible by 7 is 0\n"
     ]
    }
   ],
   "source": [
    "i = 0\n",
    "while (i <= 100 and i % 7 != 0):\n",
    "  i += 1\n",
    "else:\n",
    "  if (i % 7 == 0):\n",
    "    print(\"The first number divisible by 7 is\", i)\n",
    "  else:\n",
    "    print(\"No number is divisible by 7\")"
   ]
  },
  {
   "cell_type": "code",
   "execution_count": 6,
   "id": "43447a8a-063d-43bb-85d7-8666d49fe182",
   "metadata": {},
   "outputs": [
    {
     "name": "stdout",
     "output_type": "stream",
     "text": [
      "0\n",
      "1\n",
      "2\n",
      "3\n",
      "4\n",
      "5\n",
      "6\n",
      "7\n",
      "8\n",
      "9\n"
     ]
    }
   ],
   "source": [
    "counter = 0\n",
    "# While loop\n",
    "while counter < 10:\n",
    "    print(counter)\n",
    "    # Increment counter\n",
    "    counter += 1"
   ]
  },
  {
   "cell_type": "code",
   "execution_count": 9,
   "id": "84c660d5-e869-41e5-bdc0-2d7f078a4265",
   "metadata": {},
   "outputs": [
    {
     "name": "stdout",
     "output_type": "stream",
     "text": [
      "5 7 10 14 15 20 21 25 28 30 35 40 42 45 49 50 "
     ]
    }
   ],
   "source": [
    "i=1  \n",
    "while i<51:  \n",
    "    if i%5 == 0 or i%7==0 :  \n",
    "        print(i, end=' ')  \n",
    "    i+=1 "
   ]
  },
  {
   "cell_type": "code",
   "execution_count": 10,
   "id": "32fd889b-4c5a-47ac-870f-11234901ceed",
   "metadata": {},
   "outputs": [
    {
     "name": "stdout",
     "output_type": "stream",
     "text": [
      "The sum of squares is 1240\n"
     ]
    }
   ],
   "source": [
    "num = 15   \n",
    "summation = 0  \n",
    "c = 1  \n",
    "while c <= num: \n",
    "    summation = c**2 + summation  \n",
    "    c = c + 1     \n",
    "print(\"The sum of squares is\", summation)"
   ]
  },
  {
   "cell_type": "code",
   "execution_count": 11,
   "id": "a3f07881-a90b-41c4-937c-01ef5f212129",
   "metadata": {},
   "outputs": [
    {
     "name": "stdout",
     "output_type": "stream",
     "text": [
      "34 is not a PRIME number\n",
      "12 is not a PRIME number\n",
      "54 is not a PRIME number\n",
      "23 is a PRIME number\n",
      "75 is not a PRIME number\n",
      "34 is not a PRIME number\n",
      "11 is a PRIME number\n"
     ]
    }
   ],
   "source": [
    "num = [34, 12, 54, 23, 75, 34, 11]    \n",
    "def prime_number(number):  \n",
    "    condition = 0  \n",
    "    iteration = 2  \n",
    "    while iteration <= number / 2:  \n",
    "        if number % iteration == 0:  \n",
    "            condition = 1  \n",
    "            break  \n",
    "        iteration = iteration + 1  \n",
    "    if condition == 0:  \n",
    "        print(f\"{number} is a PRIME number\")  \n",
    "    else:  \n",
    "        print(f\"{number} is not a PRIME number\")  \n",
    "for i in num:  \n",
    "    prime_number(i)  "
   ]
  },
  {
   "cell_type": "code",
   "execution_count": 12,
   "id": "ee392c80-4fa8-4f83-86e9-62255fce12ec",
   "metadata": {},
   "outputs": [
    {
     "name": "stdin",
     "output_type": "stream",
     "text": [
      " 12\n"
     ]
    },
    {
     "name": "stdout",
     "output_type": "stream",
     "text": [
      "It is not an Armstrong number \n"
     ]
    }
   ],
   "source": [
    "n = int(input())  \n",
    "n1=str(n)  \n",
    "l=len(n1)  \n",
    "temp=n  \n",
    "s=0  \n",
    "while n!=0:  \n",
    "    r=n%10  \n",
    "    s=s+(r**1)  \n",
    "    n=n//10  \n",
    "if s==temp:  \n",
    "    print(\"It is an Armstrong number\")  \n",
    "else:  \n",
    "    print(\"It is not an Armstrong number \")  "
   ]
  }
 ],
 "metadata": {
  "kernelspec": {
   "display_name": "Python 3 (ipykernel)",
   "language": "python",
   "name": "python3"
  },
  "language_info": {
   "codemirror_mode": {
    "name": "ipython",
    "version": 3
   },
   "file_extension": ".py",
   "mimetype": "text/x-python",
   "name": "python",
   "nbconvert_exporter": "python",
   "pygments_lexer": "ipython3",
   "version": "3.11.7"
  }
 },
 "nbformat": 4,
 "nbformat_minor": 5
}
