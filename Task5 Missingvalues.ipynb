{
 "cells": [
  {
   "cell_type": "code",
   "execution_count": 106,
   "id": "dda17a9a-960a-4068-9731-88343e1b794d",
   "metadata": {},
   "outputs": [
    {
     "name": "stdout",
     "output_type": "stream",
     "text": [
      "True\n"
     ]
    }
   ],
   "source": [
    "#Missing value checking\n",
    "import pandas as pd\n",
    "# Sample data with missing values\n",
    "data = {\n",
    "    'Column1': [1, 2, None, 4],\n",
    "    'Column2': [None, 2, 3, 4]\n",
    "}\n",
    "# Create DataFrame\n",
    "df = pd.DataFrame(data)\n",
    "# Check for any missing values\n",
    "has_missing = df.isnull().values.any()\n",
    "print(has_missing)"
   ]
  },
  {
   "cell_type": "code",
   "execution_count": 107,
   "id": "cb1e389a-08ba-4f5b-a57d-b8a6d7b9d133",
   "metadata": {},
   "outputs": [
    {
     "name": "stdout",
     "output_type": "stream",
     "text": [
      "Column1    1\n",
      "Column2    1\n",
      "dtype: int64\n"
     ]
    }
   ],
   "source": [
    "# Count missing values in each column\n",
    "missing_count = df.isnull().sum()\n",
    "print(missing_count)"
   ]
  },
  {
   "cell_type": "code",
   "execution_count": 108,
   "id": "96683e46-06f9-41d9-baad-ffa3cee16230",
   "metadata": {},
   "outputs": [
    {
     "name": "stdout",
     "output_type": "stream",
     "text": [
      "2\n"
     ]
    }
   ],
   "source": [
    "#Get the total count of missing values in the entire DataFrame:\n",
    "# Total missing values in the DataFrame\n",
    "total_missing = df.isnull().sum().sum()\n",
    "print(total_missing)"
   ]
  },
  {
   "cell_type": "code",
   "execution_count": 109,
   "id": "c1325d7b-f160-4f2b-9fef-276b405082fb",
   "metadata": {},
   "outputs": [
    {
     "name": "stdout",
     "output_type": "stream",
     "text": [
      "   Column1  Column2\n",
      "0      1.0      NaN\n",
      "2      NaN      3.0\n"
     ]
    }
   ],
   "source": [
    "#Display rows with missing values\n",
    "# Display rows with missing values\n",
    "rows_with_missing = df[df.isnull().any(axis=1)]\n",
    "print(rows_with_missing)"
   ]
  },
  {
   "cell_type": "code",
   "execution_count": 110,
   "id": "7b7c78d3-4594-4b6e-9dc0-70b5a9f26446",
   "metadata": {},
   "outputs": [
    {
     "name": "stdout",
     "output_type": "stream",
     "text": [
      "   Column1  Column2\n",
      "1      2.0      2.0\n",
      "3      4.0      4.0\n"
     ]
    }
   ],
   "source": [
    "#Drop rows with any missing values:\n",
    "import pandas as pd\n",
    "# Sample data with missing values\n",
    "data = {\n",
    "    'Column1': [1, 2, None, 4],\n",
    "    'Column2': [None, 2, 3, 4]\n",
    "}\n",
    "# Create DataFrame\n",
    "df = pd.DataFrame(data)\n",
    "# Drop rows with any missing values\n",
    "df_dropped_rows = df.dropna()\n",
    "# Display the DataFrame\n",
    "print(df_dropped_rows)"
   ]
  },
  {
   "cell_type": "code",
   "execution_count": 111,
   "id": "d76d7db2-508d-47a7-8f5c-9d87a9be83a3",
   "metadata": {},
   "outputs": [
    {
     "name": "stdout",
     "output_type": "stream",
     "text": [
      "Empty DataFrame\n",
      "Columns: []\n",
      "Index: [0, 1, 2, 3]\n"
     ]
    }
   ],
   "source": [
    "#Drop columns with any missing values:\n",
    "# Drop columns with any missing values\n",
    "df_dropped_columns = df.dropna(axis=1)\n",
    "# Display the DataFrame\n",
    "print(df_dropped_columns)"
   ]
  },
  {
   "cell_type": "code",
   "execution_count": 112,
   "id": "529fbc21-9884-40f1-ae3e-d43e9ea48724",
   "metadata": {},
   "outputs": [
    {
     "name": "stdout",
     "output_type": "stream",
     "text": [
      "   Column1  Column2\n",
      "0      1.0      NaN\n",
      "1      2.0      2.0\n",
      "2      NaN      3.0\n",
      "3      4.0      4.0\n"
     ]
    }
   ],
   "source": [
    "#Drop rows with all missing values:\n",
    "# Drop rows where all elements are missing\n",
    "df_dropped_all_rows = df.dropna(how='all')\n",
    "# Display the DataFrame\n",
    "print(df_dropped_all_rows)"
   ]
  },
  {
   "cell_type": "code",
   "execution_count": 113,
   "id": "9ace7439-a8cf-4a8a-a6ab-a370799dac0e",
   "metadata": {},
   "outputs": [
    {
     "name": "stdout",
     "output_type": "stream",
     "text": [
      "   Column1  Column2\n",
      "0      1.0      NaN\n",
      "1      2.0      2.0\n",
      "2      NaN      3.0\n",
      "3      4.0      4.0\n"
     ]
    }
   ],
   "source": [
    "#Drop columns with all missing values:\n",
    "# Drop columns where all elements are missing\n",
    "df_dropped_all_columns = df.dropna(axis=1, how='all')\n",
    "# Display the DataFrame\n",
    "print(df_dropped_all_columns)"
   ]
  },
  {
   "cell_type": "code",
   "execution_count": 114,
   "id": "f8ff57a8-a9af-4806-be2e-0d4e62adb746",
   "metadata": {},
   "outputs": [
    {
     "name": "stdout",
     "output_type": "stream",
     "text": [
      "    Column1  Column2\n",
      "0  1.000000      3.0\n",
      "1  2.000000      2.0\n",
      "2  2.333333      3.0\n",
      "3  4.000000      4.0\n"
     ]
    }
   ],
   "source": [
    "#Fill missing values with the mean:\n",
    "import pandas as pd\n",
    "# Sample data with missing values\n",
    "data = {\n",
    "    'Column1': [1, 2, None, 4],\n",
    "    'Column2': [None, 2, 3, 4]\n",
    "}\n",
    "# Create DataFrame\n",
    "df = pd.DataFrame(data)\n",
    "# Fill missing values in 'Column1' with the mean of 'Column1'\n",
    "df['Column1'].fillna(df['Column1'].mean(), inplace=True)\n",
    "# Fill missing values in 'Column2' with the mean of 'Column2'\n",
    "df['Column2'].fillna(df['Column2'].mean(), inplace=True)\n",
    "# Display the DataFrame\n",
    "print(df)"
   ]
  },
  {
   "cell_type": "code",
   "execution_count": 115,
   "id": "434388be-948c-4eb8-acda-56c5fd7427e1",
   "metadata": {},
   "outputs": [
    {
     "name": "stdout",
     "output_type": "stream",
     "text": [
      "   Column1  Column2\n",
      "0      1.0      3.0\n",
      "1      2.0      2.0\n",
      "2      2.0      3.0\n",
      "3      4.0      4.0\n"
     ]
    }
   ],
   "source": [
    "#Fill missing values with the median:\n",
    "# Sample data with missing values\n",
    "data = {\n",
    "    'Column1': [1, 2, None, 4],\n",
    "    'Column2': [None, 2, 3, 4]\n",
    "}\n",
    "# Create DataFrame\n",
    "df = pd.DataFrame(data)\n",
    "# Fill missing values in 'Column1' with the median of 'Column1'\n",
    "df['Column1'].fillna(df['Column1'].median(), inplace=True)\n",
    "# Fill missing values in 'Column2' with the median of 'Column2'\n",
    "df['Column2'].fillna(df['Column2'].median(), inplace=True)\n",
    "# Display the DataFrame\n",
    "print(df)"
   ]
  },
  {
   "cell_type": "code",
   "execution_count": 116,
   "id": "23db69e9-ae01-42ae-915d-6ff96b59e3b6",
   "metadata": {},
   "outputs": [
    {
     "name": "stdout",
     "output_type": "stream",
     "text": [
      "   Column1  Column2\n",
      "0      1.0      3.0\n",
      "1      2.0      2.0\n",
      "2      2.0      3.0\n",
      "3      4.0      4.0\n",
      "   Column1  Column2\n",
      "0      1.0      3.0\n",
      "1      2.0      2.0\n",
      "2      2.0      3.0\n",
      "3      4.0      4.0\n"
     ]
    }
   ],
   "source": [
    "#Fill missing values for the entire DataFrame using mean or median:\n",
    "# Fill missing values in all columns with the mean of the respective columns\n",
    "df_mean_filled = df.fillna(df.mean())\n",
    "# Fill missing values in all columns with the median of the respective columns\n",
    "df_median_filled = df.fillna(df.median())\n",
    "# Display the DataFrames\n",
    "print(df_mean_filled)\n",
    "print(df_median_filled)"
   ]
  }
 ],
 "metadata": {
  "kernelspec": {
   "display_name": "Python 3 (ipykernel)",
   "language": "python",
   "name": "python3"
  },
  "language_info": {
   "codemirror_mode": {
    "name": "ipython",
    "version": 3
   },
   "file_extension": ".py",
   "mimetype": "text/x-python",
   "name": "python",
   "nbconvert_exporter": "python",
   "pygments_lexer": "ipython3",
   "version": "3.11.7"
  }
 },
 "nbformat": 4,
 "nbformat_minor": 5
}
