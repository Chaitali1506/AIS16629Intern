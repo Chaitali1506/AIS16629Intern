{
 "cells": [
  {
   "cell_type": "code",
   "execution_count": null,
   "id": "9fa58423-2ee2-49d8-b02b-ff0f4d898c75",
   "metadata": {},
   "outputs": [],
   "source": [
    "#The elif keyword is Python's way of saying \"if the previous conditions were not true, then try this condition\".\n",
    "#The if-elif-else statements will contain multiple conditional expressions, but only one boolean expression evaluates to True and\n",
    "#execute the respective block of statements.\n",
    "#In Python, we have one more conditional statement called “elif” statements. \n",
    "#“elif” statement is used to check multiple conditions only if the given condition is false. \n",
    "#It’s similar to an “if-else” statement and the only difference is that in “else” we will not check the condition but in “elif” we will check the conditins \n",
    "#only if the given condition is false. It’s similar to an “if-else” statement and the only difference is that in “else” we will not check the condition \n",
    "#but in “elif” we will check the condition."
   ]
  },
  {
   "cell_type": "code",
   "execution_count": 15,
   "id": "8bc0a75d-2535-4535-b32d-91bf438f5c12",
   "metadata": {},
   "outputs": [
    {
     "name": "stdout",
     "output_type": "stream",
     "text": [
      "a and b are equal\n"
     ]
    }
   ],
   "source": [
    "a = 33\n",
    "b = 33\n",
    "if b > a:\n",
    "  print(\"b is greater than a\")\n",
    "elif a == b:\n",
    "  print(\"a and b are equal\")"
   ]
  },
  {
   "cell_type": "code",
   "execution_count": 16,
   "id": "1539d7fb-6b6b-4c42-abd0-8ab5ef7ebaae",
   "metadata": {},
   "outputs": [
    {
     "name": "stdout",
     "output_type": "stream",
     "text": [
      "price is 100\n"
     ]
    }
   ],
   "source": [
    "price = 100\n",
    "if price > 100:\n",
    "    print(\"price is greater than 100\")\n",
    "elif price == 100:\n",
    "    print(\"price is 100\")\n",
    "elif price < 100:\n",
    "    print(\"price is less than 100\")"
   ]
  },
  {
   "cell_type": "code",
   "execution_count": 17,
   "id": "cb37865a-445d-4ccf-9571-73c6661faa1b",
   "metadata": {},
   "outputs": [
    {
     "name": "stdout",
     "output_type": "stream",
     "text": [
      "x is equal to y.\n"
     ]
    }
   ],
   "source": [
    "# x is equal to y with elif statement\n",
    "x = 3\n",
    "y = 3\n",
    "if x < y:\n",
    "    print(\"x is smaller than y.\")\n",
    "elif x == y:\n",
    "    print(\"x is equal to y.\")\n",
    "else:\n",
    "    print(\"x is greater than y.\")"
   ]
  },
  {
   "cell_type": "code",
   "execution_count": 18,
   "id": "0ac2301d-5622-44dc-952f-31387677ec58",
   "metadata": {},
   "outputs": [
    {
     "name": "stdout",
     "output_type": "stream",
     "text": [
      "I'll go to the sea.\n"
     ]
    }
   ],
   "source": [
    "tomorrow = \"warm\"\n",
    "if tomorrow == \"warm\":\n",
    "    print(\"I'll go to the sea.\")\n",
    "elif tomorrow == \"very hot\":\n",
    "    print(\"I'll go to the forest.\")\n",
    "else:\n",
    "    print(\"I'll stay home.\")"
   ]
  },
  {
   "cell_type": "code",
   "execution_count": 19,
   "id": "f9860e29-7dc7-4bee-86a0-dd3888c77d14",
   "metadata": {},
   "outputs": [
    {
     "name": "stdout",
     "output_type": "stream",
     "text": [
      "It's a hot desert.\n"
     ]
    }
   ],
   "source": [
    "humidity = \"low\"\n",
    "temperature = \"high\"\n",
    "if humidity == \"low\" and temperature == \"high\":\n",
    "    print(\"It's a hot desert.\")\n",
    "elif humidity == \"low\" and temperature == \"low\":\n",
    "    print(\"It's an arctic desert.\")\n",
    "elif humidity == \"high\" and temperature == \"high\":\n",
    "    print(\"It's a tropical forest.\")\n",
    "else:\n",
    "    print(\"I don't know!\")"
   ]
  },
  {
   "cell_type": "code",
   "execution_count": 23,
   "id": "b88f08ee-f47e-4460-ab2d-f15ce4ef0e7d",
   "metadata": {},
   "outputs": [
    {
     "name": "stdout",
     "output_type": "stream",
     "text": [
      "Well done!\n"
     ]
    }
   ],
   "source": [
    "mark =  85\n",
    "if mark >= 60 and mark <= 100:\n",
    "    if mark >= 90:\n",
    "        print(\"You are the best!\")\n",
    "    elif mark >= 80:\n",
    "        print(\"Well done!\")\n",
    "    elif mark >= 70:\n",
    "        print(\"You can do better.\")\n",
    "    else:\n",
    "        print(\"Pass.\")\n",
    "elif mark > 100:\n",
    "    print(\"This mark is too high.\")\n",
    "elif mark < 0:\n",
    "    print(\"This mark is too low.\")\n",
    "else:\n",
    "     print(\"Failed.\")"
   ]
  },
  {
   "cell_type": "code",
   "execution_count": 24,
   "id": "1ec925ab-47c2-45fc-9014-763285be4437",
   "metadata": {},
   "outputs": [
    {
     "name": "stdout",
     "output_type": "stream",
     "text": [
      "The variable num is 4.\n"
     ]
    }
   ],
   "source": [
    "num = 4\n",
    "if num == 3:\n",
    "    pass\n",
    "elif num == 4:\n",
    "    print(\"The variable num is 4.\")\n",
    "else:\n",
    "    print(\"The variable num is neither 3 nor 4.\")"
   ]
  },
  {
   "cell_type": "code",
   "execution_count": 25,
   "id": "92601ce9-8735-4762-84f4-31f354097655",
   "metadata": {},
   "outputs": [
    {
     "name": "stdout",
     "output_type": "stream",
     "text": [
      "No Discount\n"
     ]
    }
   ],
   "source": [
    "age = 27\n",
    "if age >= 60:\n",
    "    print('Senior Discount')\n",
    "elif 18 <= age < 60:\n",
    "    print('No Discount')\n",
    "else:\n",
    "    print('Junior Discount')"
   ]
  },
  {
   "cell_type": "code",
   "execution_count": 26,
   "id": "477ad547-80c7-472a-8c9d-f85d3ecf812a",
   "metadata": {},
   "outputs": [
    {
     "name": "stdout",
     "output_type": "stream",
     "text": [
      "y is greater than x\n"
     ]
    }
   ],
   "source": [
    "x = 30\n",
    "y = 50\n",
    "if x > y:\n",
    "    print(\"x is greater than y\")\n",
    "elif y > x:\n",
    "    print (\"y is greater than x\")\n",
    "else:\n",
    "    print(\"x and y are equal\")"
   ]
  },
  {
   "cell_type": "code",
   "execution_count": 29,
   "id": "8b6d2545-f073-4ffe-974d-c32409ae4028",
   "metadata": {},
   "outputs": [
    {
     "name": "stdout",
     "output_type": "stream",
     "text": [
      "The number 1 is odd\n",
      "The number 2 is even\n",
      "The number 3 is odd\n",
      "The number 4 is even\n",
      "The number is 5\n",
      "The number 6 is even\n",
      "The number 7 is odd\n",
      "The number 8 is even\n",
      "The number 9 is odd\n",
      "The number 10 is even and is not one of the numbers in the sequence\n",
      "The result is 50\n"
     ]
    }
   ],
   "source": [
    "number = 10\n",
    "for i in range(1, 11):\n",
    "    if i == 5:\n",
    "        print('The number is 5')\n",
    "    elif i not in set([1, 2, 3, 4, 6, 7, 8, 9]):\n",
    "        print(f'The number {i} is even and is not one of the numbers in the sequence')\n",
    "    elif i % 2 == 0:\n",
    "        print(f'The number {i} is even')\n",
    "        number += i\n",
    "    else:\n",
    "        print(f'The number {i} is odd')\n",
    "        number += i\n",
    "\n",
    "print(f'The result is {number}')"
   ]
  }
 ],
 "metadata": {
  "kernelspec": {
   "display_name": "Python 3 (ipykernel)",
   "language": "python",
   "name": "python3"
  },
  "language_info": {
   "codemirror_mode": {
    "name": "ipython",
    "version": 3
   },
   "file_extension": ".py",
   "mimetype": "text/x-python",
   "name": "python",
   "nbconvert_exporter": "python",
   "pygments_lexer": "ipython3",
   "version": "3.11.7"
  }
 },
 "nbformat": 4,
 "nbformat_minor": 5
}
