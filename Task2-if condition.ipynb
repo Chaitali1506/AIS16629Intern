{
 "cells": [
  {
   "cell_type": "code",
   "execution_count": null,
   "id": "6f5bfeba-dfb1-4db3-937f-1a4ef88cfd42",
   "metadata": {},
   "outputs": [],
   "source": [
    "#Python Conditions :If statements\n",
    "#Python supports the usual logical conditions from mathematics:\n",
    "#Equals: a == b\n",
    "#Not Equals: a != b\n",
    "#Less than: a < b\n",
    "#Less than or equal to: a <= b\n",
    "#Greater than: a > b\n",
    "#Greater than or equal to: a >= b\n",
    "#These conditions can be used in several ways, most commonly in \"if statements\" and loops.\n",
    "#An \"if statement\" is written by using the if keyword"
   ]
  },
  {
   "cell_type": "code",
   "execution_count": 1,
   "id": "8841a502-2731-42b4-beb3-39c7e0e32787",
   "metadata": {},
   "outputs": [
    {
     "name": "stdout",
     "output_type": "stream",
     "text": [
      "b is greater than a\n"
     ]
    }
   ],
   "source": [
    "#Examples\n",
    "a = 33\n",
    "b = 200\n",
    "if b > a:\n",
    "  print(\"b is greater than a\")"
   ]
  },
  {
   "cell_type": "code",
   "execution_count": null,
   "id": "2636a89a-e195-495e-b344-888888cc1686",
   "metadata": {},
   "outputs": [],
   "source": [
    "#In this example we use two variables, a and b, which are used as part of the if statement to test whether b is greater than a. As a is 33, and b is 200, \n",
    "#we know that 200 is greater than 33, and so we print to screen that \"b is greater than a\"."
   ]
  },
  {
   "cell_type": "code",
   "execution_count": 2,
   "id": "ed215d66-9975-4650-9baf-9dd007dea92d",
   "metadata": {},
   "outputs": [
    {
     "name": "stdout",
     "output_type": "stream",
     "text": [
      "Both conditions are True\n"
     ]
    }
   ],
   "source": [
    "a = 200\n",
    "b = 33\n",
    "c = 500\n",
    "if a > b and c > a:\n",
    "  print(\"Both conditions are True\")"
   ]
  },
  {
   "cell_type": "code",
   "execution_count": 3,
   "id": "4787cf0f-b5ec-4880-827a-ab184ce84326",
   "metadata": {},
   "outputs": [
    {
     "name": "stdout",
     "output_type": "stream",
     "text": [
      "At least one of the conditions is True\n"
     ]
    }
   ],
   "source": [
    "a = 200\n",
    "b = 33\n",
    "c = 500\n",
    "if a > b or a > c:\n",
    "  print(\"At least one of the conditions is True\")"
   ]
  },
  {
   "cell_type": "code",
   "execution_count": 4,
   "id": "8101979b-54cd-4aeb-bbe9-b9027ccd93e6",
   "metadata": {},
   "outputs": [
    {
     "name": "stdout",
     "output_type": "stream",
     "text": [
      "a is NOT greater than b\n"
     ]
    }
   ],
   "source": [
    "a = 33\n",
    "b = 200\n",
    "if not a > b:\n",
    "  print(\"a is NOT greater than b\")"
   ]
  },
  {
   "cell_type": "code",
   "execution_count": 12,
   "id": "e2d59b81-514c-4d12-b58c-e0e34f022298",
   "metadata": {},
   "outputs": [
    {
     "name": "stdin",
     "output_type": "stream",
     "text": [
      "enter your age 21\n"
     ]
    },
    {
     "name": "stdout",
     "output_type": "stream",
     "text": [
      "you can apply for license\n",
      "speed thrills but kills\n"
     ]
    }
   ],
   "source": [
    "age=int(input(\"enter your age\"))\n",
    "if age>18:\n",
    "        print(\"you can apply for license\")\n",
    "print(\"speed thrills but kills\")     "
   ]
  },
  {
   "cell_type": "code",
   "execution_count": 13,
   "id": "c45f16fa-d4be-4066-9731-1911d2edf2c3",
   "metadata": {},
   "outputs": [
    {
     "name": "stdout",
     "output_type": "stream",
     "text": [
      "yes\n"
     ]
    }
   ],
   "source": [
    "a=10\n",
    "b=10\n",
    "if a==b:\n",
    "    print(\"yes\")"
   ]
  },
  {
   "cell_type": "code",
   "execution_count": 18,
   "id": "9a2356ee-edd6-4595-87dc-fc7148162998",
   "metadata": {},
   "outputs": [
    {
     "name": "stdout",
     "output_type": "stream",
     "text": [
      "less than ten\n"
     ]
    }
   ],
   "source": [
    "a=4\n",
    "if a<10:\n",
    "    print(\"less than ten\")"
   ]
  },
  {
   "cell_type": "code",
   "execution_count": 20,
   "id": "4bd3f63a-0d58-4d26-8a00-53b0671348d8",
   "metadata": {},
   "outputs": [
    {
     "name": "stdout",
     "output_type": "stream",
     "text": [
      "is positive\n"
     ]
    }
   ],
   "source": [
    "a=2\n",
    "if a<0:\n",
    "    print('is negative')\n",
    "if a==0:\n",
    "     print('is zero')\n",
    "if a>0:\n",
    "    print('is positive')"
   ]
  },
  {
   "cell_type": "code",
   "execution_count": 21,
   "id": "8207e43c-3ec8-4696-a938-e01a209c33ec",
   "metadata": {},
   "outputs": [
    {
     "name": "stdout",
     "output_type": "stream",
     "text": [
      "x is greater than y\n"
     ]
    }
   ],
   "source": [
    "x=15\n",
    "y=10\n",
    "if(x>y):\n",
    "    print('x is greater than y')\n",
    "if(x<y):\n",
    "    print('x is less than y')"
   ]
  },
  {
   "cell_type": "code",
   "execution_count": 23,
   "id": "3ad87b9b-a925-4f6e-bd9b-a3c83f77a880",
   "metadata": {},
   "outputs": [
    {
     "name": "stdout",
     "output_type": "stream",
     "text": [
      "The number is even\n"
     ]
    }
   ],
   "source": [
    "num=4\n",
    "if num%2==0:\n",
    "    print(\"The number is even\")"
   ]
  }
 ],
 "metadata": {
  "kernelspec": {
   "display_name": "Python 3 (ipykernel)",
   "language": "python",
   "name": "python3"
  },
  "language_info": {
   "codemirror_mode": {
    "name": "ipython",
    "version": 3
   },
   "file_extension": ".py",
   "mimetype": "text/x-python",
   "name": "python",
   "nbconvert_exporter": "python",
   "pygments_lexer": "ipython3",
   "version": "3.11.7"
  }
 },
 "nbformat": 4,
 "nbformat_minor": 5
}
