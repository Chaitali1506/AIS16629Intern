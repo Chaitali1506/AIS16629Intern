{
 "cells": [
  {
   "cell_type": "code",
   "execution_count": 2,
   "id": "c98e4fd4-48ba-4152-87be-13394fd73fb4",
   "metadata": {},
   "outputs": [
    {
     "data": {
      "text/plain": [
       "['satara', 10, 'karad', 20, 'pune', 30, 'mumbai', 40, 'baramati']"
      ]
     },
     "execution_count": 2,
     "metadata": {},
     "output_type": "execute_result"
    }
   ],
   "source": [
    "l1=[\"satara\",10,\"karad\",20,\"pune\",30,\"mumbai\",40,\"baramati\"]\n",
    "l1"
   ]
  },
  {
   "cell_type": "code",
   "execution_count": 3,
   "id": "b81fd6ed-8b35-4514-b6c8-e11bd622d51e",
   "metadata": {},
   "outputs": [
    {
     "data": {
      "text/plain": [
       "list"
      ]
     },
     "execution_count": 3,
     "metadata": {},
     "output_type": "execute_result"
    }
   ],
   "source": [
    "type(l1)"
   ]
  },
  {
   "cell_type": "code",
   "execution_count": 4,
   "id": "a068ea77-b2eb-49b6-8028-d68ea5038515",
   "metadata": {},
   "outputs": [
    {
     "data": {
      "text/plain": [
       "[]"
      ]
     },
     "execution_count": 4,
     "metadata": {},
     "output_type": "execute_result"
    }
   ],
   "source": [
    "#empty_list\n",
    "my_list=[]\n",
    "my_list"
   ]
  },
  {
   "cell_type": "code",
   "execution_count": 5,
   "id": "b06becbd-7e7a-4de6-b580-a2c1db991c9d",
   "metadata": {},
   "outputs": [
    {
     "data": {
      "text/plain": [
       "[4, 5, 6, 7]"
      ]
     },
     "execution_count": 5,
     "metadata": {},
     "output_type": "execute_result"
    }
   ],
   "source": [
    "#list of integers\n",
    "my_list=[4,5,6,7]\n",
    "my_list"
   ]
  },
  {
   "cell_type": "code",
   "execution_count": 7,
   "id": "d2a67029-a504-4fd5-828f-1278c2f80f20",
   "metadata": {},
   "outputs": [
    {
     "data": {
      "text/plain": [
       "[4, 'word', 5, 6, 7]"
      ]
     },
     "execution_count": 7,
     "metadata": {},
     "output_type": "execute_result"
    }
   ],
   "source": [
    "#list with mixed datatypes\n",
    "my_list=[4,\"word\",5,6,7]\n",
    "my_list"
   ]
  },
  {
   "cell_type": "code",
   "execution_count": 8,
   "id": "416c8083-cc23-4b90-989c-4b41856d2ca7",
   "metadata": {},
   "outputs": [
    {
     "data": {
      "text/plain": [
       "[['mouse', 8, 4], 6, ['a']]"
      ]
     },
     "execution_count": 8,
     "metadata": {},
     "output_type": "execute_result"
    }
   ],
   "source": [
    "#nested list\n",
    "my_list=[[\"mouse\",8,4],6,['a']]\n",
    "my_list"
   ]
  },
  {
   "cell_type": "code",
   "execution_count": 9,
   "id": "1db7ac1c-548a-45ca-8660-1e3c0d770c6c",
   "metadata": {},
   "outputs": [
    {
     "data": {
      "text/plain": [
       "10"
      ]
     },
     "execution_count": 9,
     "metadata": {},
     "output_type": "execute_result"
    }
   ],
   "source": [
    "#Accesing the items\n",
    "#you access the list item by referring to the index number\n",
    "l1[1]"
   ]
  },
  {
   "cell_type": "code",
   "execution_count": 10,
   "id": "b7515a78-00b6-4fc9-a683-ec16389474fc",
   "metadata": {},
   "outputs": [
    {
     "data": {
      "text/plain": [
       "'b'"
      ]
     },
     "execution_count": 10,
     "metadata": {},
     "output_type": "execute_result"
    }
   ],
   "source": [
    "my_list=['p','r','o','b','e']\n",
    "#-ve indexing starting start from zexo\n",
    "#-ve indexing starting from -1\n",
    "my_list[-2]"
   ]
  },
  {
   "cell_type": "code",
   "execution_count": 11,
   "id": "bf2eaa36-f470-4866-967b-c9ef8da2e79f",
   "metadata": {},
   "outputs": [
    {
     "data": {
      "text/plain": [
       "['p', 'r', 'o', 'b', 'e']"
      ]
     },
     "execution_count": 11,
     "metadata": {},
     "output_type": "execute_result"
    }
   ],
   "source": [
    "my_list[:]"
   ]
  },
  {
   "cell_type": "code",
   "execution_count": 12,
   "id": "5d0b330d-3830-43e3-b852-14d9a1245ecf",
   "metadata": {},
   "outputs": [
    {
     "data": {
      "text/plain": [
       "'b'"
      ]
     },
     "execution_count": 12,
     "metadata": {},
     "output_type": "execute_result"
    }
   ],
   "source": [
    "my_list[3]"
   ]
  },
  {
   "cell_type": "code",
   "execution_count": 13,
   "id": "276f9503-9f48-418b-b384-e8e054646c19",
   "metadata": {},
   "outputs": [
    {
     "data": {
      "text/plain": [
       "'o'"
      ]
     },
     "execution_count": 13,
     "metadata": {},
     "output_type": "execute_result"
    }
   ],
   "source": [
    "my_list[2]"
   ]
  },
  {
   "cell_type": "code",
   "execution_count": 14,
   "id": "8ddc0c32-a362-459d-99de-5677c4ffebbf",
   "metadata": {},
   "outputs": [
    {
     "data": {
      "text/plain": [
       "6"
      ]
     },
     "execution_count": 14,
     "metadata": {},
     "output_type": "execute_result"
    }
   ],
   "source": [
    "n_list=[\"Good\",[3,4,1,[6]]]\n",
    "n_list[-1][3][-1]"
   ]
  },
  {
   "cell_type": "code",
   "execution_count": 15,
   "id": "b4122b0d-681f-49ce-a2e7-34dda6400875",
   "metadata": {},
   "outputs": [
    {
     "data": {
      "text/plain": [
       "6"
      ]
     },
     "execution_count": 15,
     "metadata": {},
     "output_type": "execute_result"
    }
   ],
   "source": [
    "n_list[-1][-1][-1]"
   ]
  },
  {
   "cell_type": "code",
   "execution_count": 16,
   "id": "ad1aef76-bb89-4ac4-a4f0-96b2a599d290",
   "metadata": {},
   "outputs": [
    {
     "data": {
      "text/plain": [
       "[6]"
      ]
     },
     "execution_count": 16,
     "metadata": {},
     "output_type": "execute_result"
    }
   ],
   "source": [
    "n_list[1][3]"
   ]
  },
  {
   "cell_type": "code",
   "execution_count": 17,
   "id": "d386cd12-2e20-461e-b9d2-90be1465f5b2",
   "metadata": {},
   "outputs": [
    {
     "data": {
      "text/plain": [
       "['p', 'q', 'l', 'm', 'n']"
      ]
     },
     "execution_count": 17,
     "metadata": {},
     "output_type": "execute_result"
    }
   ],
   "source": [
    "my_list=['p','q','l','m','n']\n",
    "my_list"
   ]
  },
  {
   "cell_type": "code",
   "execution_count": 18,
   "id": "b2722915-729f-4fab-a50f-a4acc0e45cac",
   "metadata": {},
   "outputs": [
    {
     "name": "stdout",
     "output_type": "stream",
     "text": [
      "n\n"
     ]
    }
   ],
   "source": [
    "print(my_list[4])"
   ]
  },
  {
   "cell_type": "code",
   "execution_count": 19,
   "id": "4d5bd45b-ebb0-4e08-add8-29b63bd94a50",
   "metadata": {},
   "outputs": [
    {
     "data": {
      "text/plain": [
       "['p', 'r', 'o', 'g', 's', 'a', 'c', 'z', 'y']"
      ]
     },
     "execution_count": 19,
     "metadata": {},
     "output_type": "execute_result"
    }
   ],
   "source": [
    "my_list=['p','r','o','g','s','a','c','z','y']\n",
    "my_list[:]"
   ]
  },
  {
   "cell_type": "code",
   "execution_count": 20,
   "id": "b4325f0e-cad7-4e2f-b0a0-3f752b1ae114",
   "metadata": {},
   "outputs": [
    {
     "name": "stdout",
     "output_type": "stream",
     "text": [
      "['g', 's', 'a']\n"
     ]
    }
   ],
   "source": [
    "print(my_list[3:6])"
   ]
  },
  {
   "cell_type": "code",
   "execution_count": 21,
   "id": "b4cb2ac9-3d95-4d1f-a080-4d3579b836c9",
   "metadata": {},
   "outputs": [
    {
     "name": "stdout",
     "output_type": "stream",
     "text": [
      "['c', 'z', 'y']\n"
     ]
    }
   ],
   "source": [
    "#element 6th end\n",
    "print(my_list[6:])"
   ]
  },
  {
   "cell_type": "code",
   "execution_count": 22,
   "id": "097e45b7-2da4-440d-aaf2-3f0b742e70d6",
   "metadata": {},
   "outputs": [
    {
     "name": "stdout",
     "output_type": "stream",
     "text": [
      "['p', 'r', 'o', 'g', 's', 'a', 'c', 'z', 'y']\n"
     ]
    }
   ],
   "source": [
    "#elements beginning to end\n",
    "print(my_list[:])"
   ]
  },
  {
   "cell_type": "code",
   "execution_count": 24,
   "id": "cc805485-29d3-42ae-a15a-5d92bc306c30",
   "metadata": {},
   "outputs": [],
   "source": [
    "#Change the item value\n",
    "#To change the value of a specific item, refer to the index number\n",
    "l1[1] = \"blackcurrant\""
   ]
  },
  {
   "cell_type": "code",
   "execution_count": 25,
   "id": "7a489086-7c2c-4912-9c7c-1a3fedca6420",
   "metadata": {},
   "outputs": [
    {
     "data": {
      "text/plain": [
       "['satara', 'blackcurrant', 'karad', 20, 'pune', 30, 'mumbai', 40, 'baramati']"
      ]
     },
     "execution_count": 25,
     "metadata": {},
     "output_type": "execute_result"
    }
   ],
   "source": [
    "l1"
   ]
  },
  {
   "cell_type": "code",
   "execution_count": 26,
   "id": "2943f3f8-0815-484f-8343-99cdc6e7609b",
   "metadata": {},
   "outputs": [
    {
     "data": {
      "text/plain": [
       "9"
      ]
     },
     "execution_count": 26,
     "metadata": {},
     "output_type": "execute_result"
    }
   ],
   "source": [
    "#List Length\n",
    "#To determine how many items a list has, use the len() method\n",
    "len(l1)"
   ]
  },
  {
   "cell_type": "code",
   "execution_count": 27,
   "id": "d8860beb-88f9-4a16-8f03-6a526866692f",
   "metadata": {},
   "outputs": [
    {
     "data": {
      "text/plain": [
       "[5, 46, 54, 61, 67, 82]"
      ]
     },
     "execution_count": 27,
     "metadata": {},
     "output_type": "execute_result"
    }
   ],
   "source": [
    "#1-append()-appends an element to the end of the list.\n",
    "x=[\"apple\",\"banana\",\"cherry\",1,2,3]\n",
    "x.append(\"apple\")\n",
    "y=[5,46,82,61,54,67]\n",
    "y.sort()\n",
    "y"
   ]
  },
  {
   "cell_type": "code",
   "execution_count": 28,
   "id": "41f5e014-6517-4ad7-b938-75fb603f7d2e",
   "metadata": {},
   "outputs": [
    {
     "data": {
      "text/plain": [
       "1"
      ]
     },
     "execution_count": 28,
     "metadata": {},
     "output_type": "execute_result"
    }
   ],
   "source": [
    "x.count(\"banana\")"
   ]
  },
  {
   "cell_type": "code",
   "execution_count": 30,
   "id": "6f4ac6e9-8ffe-4417-b042-13c72cd9e3ef",
   "metadata": {},
   "outputs": [
    {
     "data": {
      "text/plain": [
       "['apple', 'banana', 'cherry', 1, 2, 3]"
      ]
     },
     "execution_count": 30,
     "metadata": {},
     "output_type": "execute_result"
    }
   ],
   "source": [
    "x.pop(-1)\n",
    "x"
   ]
  },
  {
   "cell_type": "code",
   "execution_count": 31,
   "id": "fa176117-25cb-4a2a-941e-802eb7d13ae4",
   "metadata": {},
   "outputs": [
    {
     "data": {
      "text/plain": [
       "['apple', 'banana', 'cherry', 1, 2, 3]"
      ]
     },
     "execution_count": 31,
     "metadata": {},
     "output_type": "execute_result"
    }
   ],
   "source": [
    "# x.clear()\n",
    "x"
   ]
  },
  {
   "cell_type": "code",
   "execution_count": 32,
   "id": "d3d43c85-e593-4a45-925b-3bab38b51fe0",
   "metadata": {},
   "outputs": [
    {
     "data": {
      "text/plain": [
       "['apple', 'banana', 'cherry', 1, 2, 3]"
      ]
     },
     "execution_count": 32,
     "metadata": {},
     "output_type": "execute_result"
    }
   ],
   "source": [
    "x1=x.copy()\n",
    "x1"
   ]
  },
  {
   "cell_type": "code",
   "execution_count": 33,
   "id": "5b6c8c18-8baf-4081-b4cd-3a9b231afaec",
   "metadata": {},
   "outputs": [
    {
     "data": {
      "text/plain": [
       "[3, 2, 1, 'cherry', 'banana', 'apple']"
      ]
     },
     "execution_count": 33,
     "metadata": {},
     "output_type": "execute_result"
    }
   ],
   "source": [
    "x.reverse()\n",
    "x"
   ]
  },
  {
   "cell_type": "code",
   "execution_count": 34,
   "id": "d7fe20c3-41ff-413f-a9d5-328d28de8621",
   "metadata": {},
   "outputs": [
    {
     "data": {
      "text/plain": [
       "4"
      ]
     },
     "execution_count": 34,
     "metadata": {},
     "output_type": "execute_result"
    }
   ],
   "source": [
    "x.index(\"banana\")"
   ]
  },
  {
   "cell_type": "code",
   "execution_count": 35,
   "id": "eccafa03-3cf9-4cdd-b92c-251691884408",
   "metadata": {},
   "outputs": [
    {
     "data": {
      "text/plain": [
       "[3, 2, 1, 'cherry', 'banana', 'apple', [100, 200, 300]]"
      ]
     },
     "execution_count": 35,
     "metadata": {},
     "output_type": "execute_result"
    }
   ],
   "source": [
    "# append : only one value\n",
    "# Extend : more than 2 value\n",
    "\n",
    "x.append([100,200,300])\n",
    "x\n"
   ]
  },
  {
   "cell_type": "code",
   "execution_count": 37,
   "id": "e611a0dd-1a76-4c8b-9c3e-f6c28e16f0c4",
   "metadata": {},
   "outputs": [],
   "source": [
    "#2-clear()-removes all the elements from a list\n",
    "fruits=[1,2,3]"
   ]
  },
  {
   "cell_type": "code",
   "execution_count": 38,
   "id": "fbf10815-291e-4dec-b659-bd73b79c6666",
   "metadata": {},
   "outputs": [
    {
     "name": "stdout",
     "output_type": "stream",
     "text": [
      "[1, 2, 3]\n"
     ]
    }
   ],
   "source": [
    "print(fruits)"
   ]
  },
  {
   "cell_type": "code",
   "execution_count": 39,
   "id": "409dff2b-4e47-48f0-abe1-b08048a5e3b8",
   "metadata": {},
   "outputs": [],
   "source": [
    "#3-copy()-returns a copy of the specified list\n",
    "fruits = ['apple', 'banana', 'cherry', 'orange',\"cherry\"]"
   ]
  },
  {
   "cell_type": "code",
   "execution_count": 40,
   "id": "d5432915-d107-42e1-8f64-e23ca4b294be",
   "metadata": {},
   "outputs": [
    {
     "data": {
      "text/plain": [
       "['apple', 'banana', 'cherry', 'orange', 'cherry']"
      ]
     },
     "execution_count": 40,
     "metadata": {},
     "output_type": "execute_result"
    }
   ],
   "source": [
    "f2=fruits.copy()\n",
    "f2"
   ]
  },
  {
   "cell_type": "code",
   "execution_count": 41,
   "id": "d9ca4129-0823-4b8e-90af-a661636cd370",
   "metadata": {},
   "outputs": [
    {
     "data": {
      "text/plain": [
       "2142546497472"
      ]
     },
     "execution_count": 41,
     "metadata": {},
     "output_type": "execute_result"
    }
   ],
   "source": [
    "id(f2)"
   ]
  },
  {
   "cell_type": "code",
   "execution_count": 42,
   "id": "502947c6-e33a-40bd-9c1d-90c9681a7488",
   "metadata": {},
   "outputs": [
    {
     "data": {
      "text/plain": [
       "2142546337984"
      ]
     },
     "execution_count": 42,
     "metadata": {},
     "output_type": "execute_result"
    }
   ],
   "source": [
    "id(fruits)"
   ]
  },
  {
   "cell_type": "code",
   "execution_count": 43,
   "id": "a8dcd057-8084-4ae8-a243-fe5647301e74",
   "metadata": {},
   "outputs": [
    {
     "data": {
      "text/plain": [
       "['apple', 'banana', 'cherry', 'orange', 'cherry']"
      ]
     },
     "execution_count": 43,
     "metadata": {},
     "output_type": "execute_result"
    }
   ],
   "source": [
    "fruits"
   ]
  },
  {
   "cell_type": "code",
   "execution_count": 44,
   "id": "52f3b650-0f26-47b5-8f4d-1cf5a8ad5977",
   "metadata": {},
   "outputs": [
    {
     "data": {
      "text/plain": [
       "'apple'"
      ]
     },
     "execution_count": 44,
     "metadata": {},
     "output_type": "execute_result"
    }
   ],
   "source": [
    "fruits.pop(0)"
   ]
  },
  {
   "cell_type": "code",
   "execution_count": 45,
   "id": "d214c140-fc17-4aa7-aff0-32604f4bc965",
   "metadata": {},
   "outputs": [
    {
     "data": {
      "text/plain": [
       "['banana', 'cherry', 'orange', 'cherry']"
      ]
     },
     "execution_count": 45,
     "metadata": {},
     "output_type": "execute_result"
    }
   ],
   "source": [
    "fruits"
   ]
  },
  {
   "cell_type": "code",
   "execution_count": 46,
   "id": "121f53fa-51f8-421d-a58e-c34c4050361d",
   "metadata": {},
   "outputs": [
    {
     "data": {
      "text/plain": [
       "['apple', 'banana', 'cherry', 'orange', 'cherry']"
      ]
     },
     "execution_count": 46,
     "metadata": {},
     "output_type": "execute_result"
    }
   ],
   "source": [
    "f2"
   ]
  },
  {
   "cell_type": "code",
   "execution_count": 47,
   "id": "b71f73dd-c43e-4f81-9845-a5683a876b88",
   "metadata": {},
   "outputs": [
    {
     "data": {
      "text/plain": [
       "2"
      ]
     },
     "execution_count": 47,
     "metadata": {},
     "output_type": "execute_result"
    }
   ],
   "source": [
    "#4-count()-returns the number of elements with the specified value\n",
    "fruits.count(\"cherry\")"
   ]
  },
  {
   "cell_type": "code",
   "execution_count": 54,
   "id": "651b4132-fc8c-4e1d-aac3-38451fcc4c87",
   "metadata": {},
   "outputs": [],
   "source": [
    "fruits = ['apple', 'banana', 'cherry', 'orange',\"cherry\"]"
   ]
  },
  {
   "cell_type": "code",
   "execution_count": 55,
   "id": "3f9b65ef-1f59-432c-bda6-384d5fae324b",
   "metadata": {},
   "outputs": [
    {
     "data": {
      "text/plain": [
       "['Ford', 'BMW', 'Volvo']"
      ]
     },
     "execution_count": 55,
     "metadata": {},
     "output_type": "execute_result"
    }
   ],
   "source": [
    "#5-extend()-adds the specified list elements (or any iterable) to the end o\n",
    "cars = ['Ford', 'BMW', 'Volvo']\n",
    "cars"
   ]
  },
  {
   "cell_type": "code",
   "execution_count": 56,
   "id": "4eb79ae2-3fcc-41fd-abc3-65a50afe0873",
   "metadata": {},
   "outputs": [
    {
     "data": {
      "text/plain": [
       "['apple', 'banana', 'cherry', 'orange', 'cherry', ['Ford', 'BMW', 'Volvo']]"
      ]
     },
     "execution_count": 56,
     "metadata": {},
     "output_type": "execute_result"
    }
   ],
   "source": [
    "fruits.append(cars)\n",
    "fruits"
   ]
  },
  {
   "cell_type": "code",
   "execution_count": 57,
   "id": "5675694e-d146-438c-bcc8-fe039f3ef065",
   "metadata": {},
   "outputs": [
    {
     "data": {
      "text/plain": [
       "6"
      ]
     },
     "execution_count": 57,
     "metadata": {},
     "output_type": "execute_result"
    }
   ],
   "source": [
    "len(fruits)"
   ]
  },
  {
   "cell_type": "code",
   "execution_count": 58,
   "id": "ab41a287-3f27-4f49-8ffb-9b1b380a6505",
   "metadata": {},
   "outputs": [
    {
     "data": {
      "text/plain": [
       "['apple',\n",
       " 'banana',\n",
       " 'cherry',\n",
       " 'orange',\n",
       " 'cherry',\n",
       " ['Ford', 'BMW', 'Volvo'],\n",
       " 'Ford',\n",
       " 'BMW',\n",
       " 'Volvo']"
      ]
     },
     "execution_count": 58,
     "metadata": {},
     "output_type": "execute_result"
    }
   ],
   "source": [
    "fruits.extend(cars)\n",
    "fruits"
   ]
  },
  {
   "cell_type": "code",
   "execution_count": 59,
   "id": "c4ce938f-5eba-4987-b8b2-60d2edb1a5b0",
   "metadata": {},
   "outputs": [
    {
     "data": {
      "text/plain": [
       "0"
      ]
     },
     "execution_count": 59,
     "metadata": {},
     "output_type": "execute_result"
    }
   ],
   "source": [
    "#6-index()-returns the position at the first occurrence of the specified va\n",
    "fruits.index(\"apple\")"
   ]
  },
  {
   "cell_type": "code",
   "execution_count": 60,
   "id": "03c9da24-87be-49a3-9819-3bc967f72305",
   "metadata": {},
   "outputs": [],
   "source": [
    "#7-insert()-inserts the specified value at the specified position\n",
    "fruits.insert(0,\"pune\")"
   ]
  },
  {
   "cell_type": "code",
   "execution_count": 61,
   "id": "4abd8143-fc1c-41f4-887f-88bbb6ea643d",
   "metadata": {},
   "outputs": [
    {
     "name": "stdout",
     "output_type": "stream",
     "text": [
      "['pune', 'apple', 'banana', 'cherry', 'orange', 'cherry', ['Ford', 'BMW', 'Volvo'], 'Ford', 'BMW', 'Volvo']\n"
     ]
    }
   ],
   "source": [
    "print(fruits)"
   ]
  },
  {
   "cell_type": "code",
   "execution_count": 62,
   "id": "105fe7c4-1a26-4301-8f3e-073a4746adea",
   "metadata": {},
   "outputs": [
    {
     "data": {
      "text/plain": [
       "['pune',\n",
       " 'apple',\n",
       " 'banana',\n",
       " 'cherry',\n",
       " 'orange',\n",
       " 'cherry',\n",
       " ['Ford', 'BMW', 'Volvo'],\n",
       " 'Ford',\n",
       " 'BMW',\n",
       " 'Volvo']"
      ]
     },
     "execution_count": 62,
     "metadata": {},
     "output_type": "execute_result"
    }
   ],
   "source": [
    "fruits"
   ]
  },
  {
   "cell_type": "code",
   "execution_count": 63,
   "id": "22ae84d9-a598-414c-a8a3-d98220908f98",
   "metadata": {},
   "outputs": [
    {
     "data": {
      "text/plain": [
       "'banana'"
      ]
     },
     "execution_count": 63,
     "metadata": {},
     "output_type": "execute_result"
    }
   ],
   "source": [
    "#position : pop\n",
    "#value: remove\n",
    "#8-pop()-removes the element at the specified position\n",
    "fruits.pop(2)"
   ]
  },
  {
   "cell_type": "code",
   "execution_count": 64,
   "id": "18a26262-5d71-4edb-8e15-5b169f34bbef",
   "metadata": {},
   "outputs": [
    {
     "data": {
      "text/plain": [
       "['pune',\n",
       " 'apple',\n",
       " 'cherry',\n",
       " 'orange',\n",
       " 'cherry',\n",
       " ['Ford', 'BMW', 'Volvo'],\n",
       " 'Ford',\n",
       " 'BMW',\n",
       " 'Volvo']"
      ]
     },
     "execution_count": 64,
     "metadata": {},
     "output_type": "execute_result"
    }
   ],
   "source": [
    "fruits"
   ]
  },
  {
   "cell_type": "code",
   "execution_count": 65,
   "id": "a8b47d2f-85ca-4da4-97df-4b2b4c27474e",
   "metadata": {},
   "outputs": [
    {
     "data": {
      "text/plain": [
       "['pune',\n",
       " 'apple',\n",
       " 'orange',\n",
       " 'cherry',\n",
       " ['Ford', 'BMW', 'Volvo'],\n",
       " 'Ford',\n",
       " 'BMW',\n",
       " 'Volvo']"
      ]
     },
     "execution_count": 65,
     "metadata": {},
     "output_type": "execute_result"
    }
   ],
   "source": [
    "fruits.remove(\"cherry\")\n",
    "fruits"
   ]
  },
  {
   "cell_type": "code",
   "execution_count": 66,
   "id": "05e654c1-db31-4e19-87a5-4e1a22a6ce72",
   "metadata": {},
   "outputs": [],
   "source": [
    "#9-remove()-removes the specified item\n",
    "thislist = [\"apple\", \"banana\", \"cherry\"]"
   ]
  },
  {
   "cell_type": "code",
   "execution_count": 67,
   "id": "ba5986f7-ac86-481a-b14f-f3af644bd115",
   "metadata": {},
   "outputs": [
    {
     "data": {
      "text/plain": [
       "['apple', 'banana', 'cherry']"
      ]
     },
     "execution_count": 67,
     "metadata": {},
     "output_type": "execute_result"
    }
   ],
   "source": [
    "thislist"
   ]
  },
  {
   "cell_type": "code",
   "execution_count": 68,
   "id": "ed237aad-703d-44fc-87ef-2a74c78d17c3",
   "metadata": {},
   "outputs": [
    {
     "data": {
      "text/plain": [
       "['apple', 'banana', 'cherry']"
      ]
     },
     "execution_count": 68,
     "metadata": {},
     "output_type": "execute_result"
    }
   ],
   "source": [
    "thislist"
   ]
  },
  {
   "cell_type": "code",
   "execution_count": 69,
   "id": "a4a5d066-e8ff-4c10-bd11-9c7dd19d7fab",
   "metadata": {},
   "outputs": [],
   "source": [
    "#9-reverse()-reverses the sorting order of the elements\n",
    "fruits.reverse()"
   ]
  },
  {
   "cell_type": "code",
   "execution_count": 70,
   "id": "ba0a0f9d-9a24-40c0-8380-5606539f13ca",
   "metadata": {},
   "outputs": [
    {
     "data": {
      "text/plain": [
       "[5, 4, 3, 2, 1]"
      ]
     },
     "execution_count": 70,
     "metadata": {},
     "output_type": "execute_result"
    }
   ],
   "source": [
    "r=[1,2,3,4,5]\n",
    "r.reverse()\n",
    "r"
   ]
  },
  {
   "cell_type": "code",
   "execution_count": 71,
   "id": "9f19f664-989e-468a-ab18-bb8c8654f3f5",
   "metadata": {},
   "outputs": [
    {
     "data": {
      "text/plain": [
       "['Volvo',\n",
       " 'BMW',\n",
       " 'Ford',\n",
       " ['Ford', 'BMW', 'Volvo'],\n",
       " 'cherry',\n",
       " 'orange',\n",
       " 'apple',\n",
       " 'pune']"
      ]
     },
     "execution_count": 71,
     "metadata": {},
     "output_type": "execute_result"
    }
   ],
   "source": [
    "fruits"
   ]
  },
  {
   "cell_type": "code",
   "execution_count": 72,
   "id": "5f44c6ca-64ca-4b4b-8e2c-58c840200f41",
   "metadata": {},
   "outputs": [
    {
     "data": {
      "text/plain": [
       "[1, 2, 3, 4, 5]"
      ]
     },
     "execution_count": 72,
     "metadata": {},
     "output_type": "execute_result"
    }
   ],
   "source": [
    "#10-sort()-sorts the list ascending by default\n",
    "r.sort()\n",
    "r"
   ]
  },
  {
   "cell_type": "code",
   "execution_count": 73,
   "id": "b7bf7d25-7963-4688-a421-bef895f58662",
   "metadata": {},
   "outputs": [
    {
     "data": {
      "text/plain": [
       "(1, 2, 3, 4)"
      ]
     },
     "execution_count": 73,
     "metadata": {},
     "output_type": "execute_result"
    }
   ],
   "source": [
    "l=(1,2,3,4)\n",
    "l1=l\n",
    "l1"
   ]
  },
  {
   "cell_type": "code",
   "execution_count": 76,
   "id": "6cc78ea1-1d04-48f6-a428-d3894d526b43",
   "metadata": {},
   "outputs": [
    {
     "data": {
      "text/plain": [
       "(1, 2, 3, 4)"
      ]
     },
     "execution_count": 76,
     "metadata": {},
     "output_type": "execute_result"
    }
   ],
   "source": [
    "l1"
   ]
  },
  {
   "cell_type": "code",
   "execution_count": 77,
   "id": "09e59444-2710-4c02-9b58-10ca0707336c",
   "metadata": {},
   "outputs": [
    {
     "data": {
      "text/plain": [
       "2142546662704"
      ]
     },
     "execution_count": 77,
     "metadata": {},
     "output_type": "execute_result"
    }
   ],
   "source": [
    "id(l)"
   ]
  },
  {
   "cell_type": "code",
   "execution_count": 78,
   "id": "5f75adf7-bb4a-43b2-b4b9-ed9ef584acb0",
   "metadata": {},
   "outputs": [
    {
     "data": {
      "text/plain": [
       "5"
      ]
     },
     "execution_count": 78,
     "metadata": {},
     "output_type": "execute_result"
    }
   ],
   "source": [
    "int(float(\"5.0\"))"
   ]
  }
 ],
 "metadata": {
  "kernelspec": {
   "display_name": "Python 3 (ipykernel)",
   "language": "python",
   "name": "python3"
  },
  "language_info": {
   "codemirror_mode": {
    "name": "ipython",
    "version": 3
   },
   "file_extension": ".py",
   "mimetype": "text/x-python",
   "name": "python",
   "nbconvert_exporter": "python",
   "pygments_lexer": "ipython3",
   "version": "3.11.7"
  }
 },
 "nbformat": 4,
 "nbformat_minor": 5
}
