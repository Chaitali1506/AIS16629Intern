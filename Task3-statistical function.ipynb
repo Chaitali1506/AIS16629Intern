{
 "cells": [
  {
   "cell_type": "code",
   "execution_count": 13,
   "id": "0bd30662-a1cd-4771-b70f-52530f4d1cad",
   "metadata": {},
   "outputs": [
    {
     "name": "stdout",
     "output_type": "stream",
     "text": [
      "The mean of the data is: 4\n"
     ]
    }
   ],
   "source": [
    "#Mean Fuctions\n",
    "import statistics\n",
    "data =  [2, 3, 4, 5, 6]\n",
    "print(\"The mean of the data is:\", statistics.mean(data))"
   ]
  },
  {
   "cell_type": "code",
   "execution_count": 18,
   "id": "4e61ac05-5e32-494c-a269-381088d51fc4",
   "metadata": {},
   "outputs": [
    {
     "name": "stdout",
     "output_type": "stream",
     "text": [
      "The Mean of the data is: 4\n"
     ]
    }
   ],
   "source": [
    "from statistics import mean\n",
    "data = {2:4, 3:9, 4:16, 5:25, 6:36}\n",
    "print(\"The Mean of the data is:\", mean(data))"
   ]
  },
  {
   "cell_type": "code",
   "execution_count": 19,
   "id": "92a1143a-6c4f-48f7-b8f2-33a4b96729c3",
   "metadata": {},
   "outputs": [
    {
     "name": "stdout",
     "output_type": "stream",
     "text": [
      "2.0\n",
      "1.8800000000000001\n"
     ]
    }
   ],
   "source": [
    "def mean(numbers):\n",
    "    return sum(numbers)/len(numbers)\n",
    "x = mean([1, 3, 2])\n",
    "numbers = [1, 1.3, 4, 2.1, 1.0]\n",
    "y = mean(numbers)\n",
    "print(x)   \n",
    "print(y)"
   ]
  },
  {
   "cell_type": "code",
   "execution_count": 23,
   "id": "782a4534-0397-405d-956e-96b7a8ffdab3",
   "metadata": {},
   "outputs": [
    {
     "name": "stdout",
     "output_type": "stream",
     "text": [
      "Mean is : 4.428571428571429\n"
     ]
    }
   ],
   "source": [
    "import statistics\n",
    "data1 = [1, 3, 4, 5, 7, 9, 2]\n",
    "x = statistics.mean(data1)\n",
    "print(\"Mean is :\", x)"
   ]
  },
  {
   "cell_type": "code",
   "execution_count": 24,
   "id": "0231f135-0de5-4724-bf1a-f1d8fb1f80fa",
   "metadata": {},
   "outputs": [
    {
     "name": "stdout",
     "output_type": "stream",
     "text": [
      "Variance of sample set is 0.40924000000000005\n"
     ]
    }
   ],
   "source": [
    "#variance\n",
    "import statistics\n",
    "sample = [2.74, 1.23, 2.63, 2.22, 3, 1.98]\n",
    "print(\"Variance of sample set is % s\"\n",
    "      %(statistics.variance(sample)))"
   ]
  },
  {
   "cell_type": "code",
   "execution_count": 25,
   "id": "55b1f2a6-cdb4-49d7-a087-41d8754846e1",
   "metadata": {},
   "outputs": [
    {
     "name": "stdout",
     "output_type": "stream",
     "text": [
      "12407.766\n"
     ]
    }
   ],
   "source": [
    "import statistics\n",
    "sample = (1, 1.3, 1.2, 1.9, 2.5, 2.2)\n",
    "m = statistics.mean(sample)\n",
    "print(statistics.variance(sample, xbar = -100))"
   ]
  },
  {
   "cell_type": "code",
   "execution_count": 26,
   "id": "038e10af-a555-4ef7-8a83-72465ee0b225",
   "metadata": {},
   "outputs": [
    {
     "name": "stdout",
     "output_type": "stream",
     "text": [
      "166.66666666666666\n"
     ]
    }
   ],
   "source": [
    "import statistics\n",
    "sample = [10,20,30,40]\n",
    "print(statistics.variance(sample))"
   ]
  },
  {
   "cell_type": "code",
   "execution_count": 28,
   "id": "65223614-8176-4a15-b017-907a1f176da3",
   "metadata": {},
   "outputs": [],
   "source": [
    "#median\n",
    "test_scores=[100,65,88,94,96,99,44,92,99,89,95]"
   ]
  },
  {
   "cell_type": "code",
   "execution_count": 29,
   "id": "6b457a9a-96c3-467f-ade6-51616d07574a",
   "metadata": {},
   "outputs": [
    {
     "name": "stdout",
     "output_type": "stream",
     "text": [
      "[44, 65, 88, 89, 92, 94, 95, 96, 99, 99, 100]\n"
     ]
    }
   ],
   "source": [
    "sorted_scores=sorted(test_scores)\n",
    "print(sorted_scores)"
   ]
  },
  {
   "cell_type": "code",
   "execution_count": 30,
   "id": "3c1024cd-3ece-49d2-b6bb-9b7581f656ef",
   "metadata": {},
   "outputs": [
    {
     "data": {
      "text/plain": [
       "6.0"
      ]
     },
     "execution_count": 30,
     "metadata": {},
     "output_type": "execute_result"
    }
   ],
   "source": [
    "(len(sorted_scores)+1)/2"
   ]
  },
  {
   "cell_type": "code",
   "execution_count": 31,
   "id": "137128fe-63c6-4953-ab2c-039e9fdb28e1",
   "metadata": {},
   "outputs": [
    {
     "name": "stdout",
     "output_type": "stream",
     "text": [
      "94\n"
     ]
    }
   ],
   "source": [
    "median=sorted_scores[5]\n",
    "print(median)"
   ]
  },
  {
   "cell_type": "code",
   "execution_count": 32,
   "id": "8db83a29-9b61-4565-8070-cb999bd19133",
   "metadata": {},
   "outputs": [
    {
     "name": "stdout",
     "output_type": "stream",
     "text": [
      "Mode of given set of data values is 40\n"
     ]
    }
   ],
   "source": [
    "#Mode\n",
    "import statistics    \n",
    "my_set = [10, 20, 30, 30, 40, 40, 40, 50, 50, 60]   \n",
    "my_mode = statistics.mode( my_set)    \n",
    "print(\"Mode of given set of data values is\", my_mode)  "
   ]
  },
  {
   "cell_type": "code",
   "execution_count": 33,
   "id": "1b7d079a-e63b-41c8-8555-dcbca77b94d6",
   "metadata": {},
   "outputs": [
    {
     "name": "stdout",
     "output_type": "stream",
     "text": [
      "0.9035079029052513\n"
     ]
    }
   ],
   "source": [
    "#standard deviations\n",
    "import numpy\n",
    "speed = [86,87,88,86,87,85,86]\n",
    "x = numpy.std(speed)\n",
    "print(x)"
   ]
  },
  {
   "cell_type": "code",
   "execution_count": 34,
   "id": "6f38d21f-8b09-4982-84ec-85428b0226f9",
   "metadata": {},
   "outputs": [
    {
     "name": "stdout",
     "output_type": "stream",
     "text": [
      "43.0\n"
     ]
    }
   ],
   "source": [
    "#percentiles\n",
    "import numpy\n",
    "ages = [5,31,43,48,50,41,7,11,15,39,80,82,32,2,8,6,25,36,27,61,31]\n",
    "x = numpy.percentile(ages, 75)\n",
    "print(x)"
   ]
  },
  {
   "cell_type": "code",
   "execution_count": 35,
   "id": "308def84-be8c-4e50-9f61-2213fc99e3f4",
   "metadata": {},
   "outputs": [
    {
     "name": "stdout",
     "output_type": "stream",
     "text": [
      "3\n",
      "5\n",
      "7\n",
      "9\n",
      "11\n",
      "13\n",
      "15\n",
      "17\n",
      "19\n"
     ]
    }
   ],
   "source": [
    "#Range\n",
    "x = range(3, 20, 2)\n",
    "for n in x:\n",
    "  print(n)"
   ]
  },
  {
   "cell_type": "code",
   "execution_count": 36,
   "id": "ecdcae5f-bcfb-4b25-83d1-ffb6aeabe762",
   "metadata": {},
   "outputs": [
    {
     "name": "stdout",
     "output_type": "stream",
     "text": [
      "[13.   21.   41.   49.75 72.  ]\n"
     ]
    }
   ],
   "source": [
    "#Quartiles\n",
    "import numpy\n",
    "values = [13,21,21,40,42,48,55,72]\n",
    "x = numpy.quantile(values, [0,0.25,0.5,0.75,1])\n",
    "print(x)"
   ]
  },
  {
   "cell_type": "code",
   "execution_count": 42,
   "id": "42da0a51-be83-40a3-8609-3b2a9e6033a9",
   "metadata": {},
   "outputs": [
    {
     "data": {
      "text/plain": [
       "0.7586402890911869"
      ]
     },
     "execution_count": 42,
     "metadata": {},
     "output_type": "execute_result"
    }
   ],
   "source": [
    ">>> import numpy as np\n",
    ">>> x = np.arange(10, 20)\n",
    ">>> x\n",
    ">>> y = np.array([2, 1, 4, 5, 8, 12, 18, 25, 96, 48])\n",
    ">>> y\n",
    ">>> r = np.corrcoef(x, y)\n",
    ">>> r\n",
    ">>> r[0, 1]\n",
    ">>> r[1, 0]"
   ]
  },
  {
   "cell_type": "code",
   "execution_count": 43,
   "id": "4fefdb03-2b6a-4f51-b16e-6c1af487dc4d",
   "metadata": {},
   "outputs": [
    {
     "data": {
      "text/plain": [
       "F_onewayResult(statistic=4.625000000000002, pvalue=0.016336459839780215)"
      ]
     },
     "execution_count": 43,
     "metadata": {},
     "output_type": "execute_result"
    }
   ],
   "source": [
    "#Anova\n",
    "performance1 = [89, 89, 88, 78, 79]\n",
    "performance2 = [93, 92, 94, 89, 88]\n",
    "performance3 = [89, 88, 89, 93, 90]\n",
    "performance4 = [81, 78, 81, 92, 82]\n",
    "from scipy.stats import f_oneway\n",
    "performance1 = [89, 89, 88, 78, 79]\n",
    "performance2 = [93, 92, 94, 89, 88]\n",
    "performance3 = [89, 88, 89, 93, 90]\n",
    "performance4 = [81, 78, 81, 92, 82]\n",
    "f_oneway(performance1, performance2, performance3, performance4)"
   ]
  }
 ],
 "metadata": {
  "kernelspec": {
   "display_name": "Python 3 (ipykernel)",
   "language": "python",
   "name": "python3"
  },
  "language_info": {
   "codemirror_mode": {
    "name": "ipython",
    "version": 3
   },
   "file_extension": ".py",
   "mimetype": "text/x-python",
   "name": "python",
   "nbconvert_exporter": "python",
   "pygments_lexer": "ipython3",
   "version": "3.11.7"
  }
 },
 "nbformat": 4,
 "nbformat_minor": 5
}
