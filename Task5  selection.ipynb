{
 "cells": [
  {
   "cell_type": "code",
   "execution_count": 85,
   "id": "3d542ad7-b3f8-4dd0-b08d-595f386280d8",
   "metadata": {},
   "outputs": [
    {
     "data": {
      "text/html": [
       "<div>\n",
       "<style scoped>\n",
       "    .dataframe tbody tr th:only-of-type {\n",
       "        vertical-align: middle;\n",
       "    }\n",
       "\n",
       "    .dataframe tbody tr th {\n",
       "        vertical-align: top;\n",
       "    }\n",
       "\n",
       "    .dataframe thead th {\n",
       "        text-align: right;\n",
       "    }\n",
       "</style>\n",
       "<table border=\"1\" class=\"dataframe\">\n",
       "  <thead>\n",
       "    <tr style=\"text-align: right;\">\n",
       "      <th></th>\n",
       "      <th>Name</th>\n",
       "      <th>Age</th>\n",
       "      <th>City</th>\n",
       "      <th>Salary</th>\n",
       "    </tr>\n",
       "  </thead>\n",
       "  <tbody>\n",
       "    <tr>\n",
       "      <th>0</th>\n",
       "      <td>Stuti</td>\n",
       "      <td>28</td>\n",
       "      <td>Varanasi</td>\n",
       "      <td>20000</td>\n",
       "    </tr>\n",
       "    <tr>\n",
       "      <th>1</th>\n",
       "      <td>Saumya</td>\n",
       "      <td>32</td>\n",
       "      <td>Delhi</td>\n",
       "      <td>25000</td>\n",
       "    </tr>\n",
       "    <tr>\n",
       "      <th>2</th>\n",
       "      <td>Aaditya</td>\n",
       "      <td>25</td>\n",
       "      <td>Mumbai</td>\n",
       "      <td>40000</td>\n",
       "    </tr>\n",
       "    <tr>\n",
       "      <th>3</th>\n",
       "      <td>Saumya</td>\n",
       "      <td>32</td>\n",
       "      <td>Delhi</td>\n",
       "      <td>35000</td>\n",
       "    </tr>\n",
       "    <tr>\n",
       "      <th>4</th>\n",
       "      <td>Saumya</td>\n",
       "      <td>32</td>\n",
       "      <td>Delhi</td>\n",
       "      <td>30000</td>\n",
       "    </tr>\n",
       "    <tr>\n",
       "      <th>5</th>\n",
       "      <td>Saumya</td>\n",
       "      <td>32</td>\n",
       "      <td>Mumbai</td>\n",
       "      <td>20000</td>\n",
       "    </tr>\n",
       "    <tr>\n",
       "      <th>6</th>\n",
       "      <td>Aaditya</td>\n",
       "      <td>40</td>\n",
       "      <td>Dehradun</td>\n",
       "      <td>24000</td>\n",
       "    </tr>\n",
       "    <tr>\n",
       "      <th>7</th>\n",
       "      <td>Seema</td>\n",
       "      <td>32</td>\n",
       "      <td>Delhi</td>\n",
       "      <td>70000</td>\n",
       "    </tr>\n",
       "  </tbody>\n",
       "</table>\n",
       "</div>"
      ],
      "text/plain": [
       "      Name  Age      City  Salary\n",
       "0    Stuti   28  Varanasi   20000\n",
       "1   Saumya   32     Delhi   25000\n",
       "2  Aaditya   25    Mumbai   40000\n",
       "3   Saumya   32     Delhi   35000\n",
       "4   Saumya   32     Delhi   30000\n",
       "5   Saumya   32    Mumbai   20000\n",
       "6  Aaditya   40  Dehradun   24000\n",
       "7    Seema   32     Delhi   70000"
      ]
     },
     "execution_count": 85,
     "metadata": {},
     "output_type": "execute_result"
    }
   ],
   "source": [
    "# import pandas\n",
    "import pandas as pd\n",
    "# List of Tuples\n",
    "employees = [('Stuti', 28, 'Varanasi', 20000),\n",
    "            ('Saumya', 32, 'Delhi', 25000),\n",
    "            ('Aaditya', 25, 'Mumbai', 40000),\n",
    "            ('Saumya', 32, 'Delhi', 35000),\n",
    "            ('Saumya', 32, 'Delhi', 30000),\n",
    "            ('Saumya', 32, 'Mumbai', 20000),\n",
    "            ('Aaditya', 40, 'Dehradun', 24000),\n",
    "            ('Seema', 32, 'Delhi', 70000)\n",
    "            ]\n",
    "# Create a DataFrame object from list\n",
    "df = pd.DataFrame(employees,\n",
    "                columns =['Name', 'Age',\n",
    "                        'City', 'Salary'])\n",
    "# Show the dataframe\n",
    "df"
   ]
  },
  {
   "cell_type": "code",
   "execution_count": 86,
   "id": "ae15e543-28ae-4484-b37a-4262342ff859",
   "metadata": {},
   "outputs": [
    {
     "data": {
      "text/plain": [
       "Age             28\n",
       "City      Varanasi\n",
       "Salary       20000\n",
       "Name: Stuti, dtype: object"
      ]
     },
     "execution_count": 86,
     "metadata": {},
     "output_type": "execute_result"
    }
   ],
   "source": [
    "# Set 'Name' column as index\n",
    "# on a Dataframe\n",
    "df.set_index(\"Name\", inplace = True) \n",
    "# Using the operator .loc[]\n",
    "# to select single row\n",
    "result = df.loc[\"Stuti\"] \n",
    "# Show the dataframe\n",
    "result"
   ]
  },
  {
   "cell_type": "code",
   "execution_count": 88,
   "id": "3917bb66-ea70-4660-9697-d8a902001eb7",
   "metadata": {},
   "outputs": [
    {
     "data": {
      "text/plain": [
       "Age           25\n",
       "City      Mumbai\n",
       "Salary     40000\n",
       "Name: Aaditya, dtype: object"
      ]
     },
     "execution_count": 88,
     "metadata": {},
     "output_type": "execute_result"
    }
   ],
   "source": [
    "#Select Rows and Columns in Pandas DataFrame using iloc\n",
    "result = df.iloc[2]\n",
    "result"
   ]
  },
  {
   "cell_type": "code",
   "execution_count": 89,
   "id": "4dca5032-d536-47c0-b24b-a14606e77e63",
   "metadata": {},
   "outputs": [
    {
     "data": {
      "text/html": [
       "<div>\n",
       "<style scoped>\n",
       "    .dataframe tbody tr th:only-of-type {\n",
       "        vertical-align: middle;\n",
       "    }\n",
       "\n",
       "    .dataframe tbody tr th {\n",
       "        vertical-align: top;\n",
       "    }\n",
       "\n",
       "    .dataframe thead th {\n",
       "        text-align: right;\n",
       "    }\n",
       "</style>\n",
       "<table border=\"1\" class=\"dataframe\">\n",
       "  <thead>\n",
       "    <tr style=\"text-align: right;\">\n",
       "      <th></th>\n",
       "      <th>Age</th>\n",
       "      <th>City</th>\n",
       "      <th>Salary</th>\n",
       "    </tr>\n",
       "    <tr>\n",
       "      <th>Name</th>\n",
       "      <th></th>\n",
       "      <th></th>\n",
       "      <th></th>\n",
       "    </tr>\n",
       "  </thead>\n",
       "  <tbody>\n",
       "    <tr>\n",
       "      <th>Aaditya</th>\n",
       "      <td>25</td>\n",
       "      <td>Mumbai</td>\n",
       "      <td>40000</td>\n",
       "    </tr>\n",
       "    <tr>\n",
       "      <th>Saumya</th>\n",
       "      <td>32</td>\n",
       "      <td>Delhi</td>\n",
       "      <td>35000</td>\n",
       "    </tr>\n",
       "    <tr>\n",
       "      <th>Saumya</th>\n",
       "      <td>32</td>\n",
       "      <td>Mumbai</td>\n",
       "      <td>20000</td>\n",
       "    </tr>\n",
       "  </tbody>\n",
       "</table>\n",
       "</div>"
      ],
      "text/plain": [
       "         Age    City  Salary\n",
       "Name                        \n",
       "Aaditya   25  Mumbai   40000\n",
       "Saumya    32   Delhi   35000\n",
       "Saumya    32  Mumbai   20000"
      ]
     },
     "execution_count": 89,
     "metadata": {},
     "output_type": "execute_result"
    }
   ],
   "source": [
    "# Using the operator .iloc[]\n",
    "# to select multiple rows\n",
    "result = df.iloc[[2, 3, 5]] \n",
    "# Show the dataframe\n",
    "result"
   ]
  },
  {
   "cell_type": "code",
   "execution_count": 90,
   "id": "5f398425-7d8b-4faf-b555-657cc0a65b27",
   "metadata": {},
   "outputs": [
    {
     "data": {
      "text/html": [
       "<div>\n",
       "<style scoped>\n",
       "    .dataframe tbody tr th:only-of-type {\n",
       "        vertical-align: middle;\n",
       "    }\n",
       "\n",
       "    .dataframe tbody tr th {\n",
       "        vertical-align: top;\n",
       "    }\n",
       "\n",
       "    .dataframe thead th {\n",
       "        text-align: right;\n",
       "    }\n",
       "</style>\n",
       "<table border=\"1\" class=\"dataframe\">\n",
       "  <thead>\n",
       "    <tr style=\"text-align: right;\">\n",
       "      <th></th>\n",
       "      <th>Age</th>\n",
       "      <th>City</th>\n",
       "    </tr>\n",
       "    <tr>\n",
       "      <th>Name</th>\n",
       "      <th></th>\n",
       "      <th></th>\n",
       "    </tr>\n",
       "  </thead>\n",
       "  <tbody>\n",
       "    <tr>\n",
       "      <th>Aaditya</th>\n",
       "      <td>25</td>\n",
       "      <td>Mumbai</td>\n",
       "    </tr>\n",
       "    <tr>\n",
       "      <th>Saumya</th>\n",
       "      <td>32</td>\n",
       "      <td>Delhi</td>\n",
       "    </tr>\n",
       "    <tr>\n",
       "      <th>Saumya</th>\n",
       "      <td>32</td>\n",
       "      <td>Mumbai</td>\n",
       "    </tr>\n",
       "  </tbody>\n",
       "</table>\n",
       "</div>"
      ],
      "text/plain": [
       "         Age    City\n",
       "Name                \n",
       "Aaditya   25  Mumbai\n",
       "Saumya    32   Delhi\n",
       "Saumya    32  Mumbai"
      ]
     },
     "execution_count": 90,
     "metadata": {},
     "output_type": "execute_result"
    }
   ],
   "source": [
    "result = df.iloc[[2, 3, 5],\n",
    "                [0, 1]]\n",
    "result"
   ]
  },
  {
   "cell_type": "code",
   "execution_count": 91,
   "id": "3c83c85d-36a8-4b16-9d86-83ec796d16d5",
   "metadata": {},
   "outputs": [
    {
     "name": "stdout",
     "output_type": "stream",
     "text": [
      "   column1  column2  result\n",
      "0        5        3       5\n",
      "1       12        6      18\n",
      "2        8       10       8\n",
      "3       15        7      22\n"
     ]
    }
   ],
   "source": [
    "#conditional selection for column add\n",
    "import pandas as pd\n",
    "import numpy as np\n",
    "df = pd.DataFrame({\n",
    "    'column1': [5, 12, 8, 15],\n",
    "    'column2': [3, 6, 10, 7]\n",
    "})\n",
    "# Add 'result' column based on condition\n",
    "df['result'] = np.where(df['column1'] > 10, df['column1'] + df['column2'], df['column1'])\n",
    "print(df)"
   ]
  },
  {
   "cell_type": "code",
   "execution_count": 98,
   "id": "9433a0a8-aec0-4559-956d-95d9b841c847",
   "metadata": {},
   "outputs": [
    {
     "name": "stdout",
     "output_type": "stream",
     "text": [
      "Original DataFrame\n",
      "--------------\n",
      "  names  physics  chemistry  algebra\n",
      "0  Somu       68         84       78\n",
      "1  Kiku       74         56       88\n",
      "2  Amol       77         73       82\n",
      "3  Lini       78         69       87\n",
      "\n",
      "\n",
      "DataFrame after deleting column\n",
      "--------------\n",
      "  names  physics  algebra\n",
      "0  Somu       68       78\n",
      "1  Kiku       74       88\n",
      "2  Amol       77       82\n",
      "3  Lini       78       87\n"
     ]
    }
   ],
   "source": [
    "#conditional selection for delete column\n",
    "import pandas as pd\n",
    "mydictionary = {'names': ['Somu', 'Kiku', 'Amol', 'Lini'],\n",
    "\t'physics': [68, 74, 77, 78],\n",
    "\t'chemistry': [84, 56, 73, 69],\n",
    "\t'algebra': [78, 88, 82, 87]}\n",
    "# Create dataframe\n",
    "df_marks = pd.DataFrame(mydictionary)\n",
    "print('Original DataFrame\\n--------------')\n",
    "print(df_marks)\n",
    "# Delete a column\n",
    "del df_marks['chemistry']\n",
    "print('\\n\\nDataFrame after deleting column\\n--------------')\n",
    "print(df_marks)"
   ]
  },
  {
   "cell_type": "code",
   "execution_count": 100,
   "id": "924b6fe7-33fc-4721-8f7f-e8fcd5015a55",
   "metadata": {},
   "outputs": [
    {
     "name": "stdout",
     "output_type": "stream",
     "text": [
      "Original DataFrame:\n",
      "   A  B   C\n",
      "0  1  5   9\n",
      "1  2  6  10\n",
      "2  3  7  11\n",
      "3  4  8  12\n",
      "\n",
      "Modified DataFrame with Updated Index:\n",
      "       A  B   C\n",
      "A              \n",
      "False  1  5   9\n",
      "False  2  6  10\n",
      "True   3  7  11\n",
      "True   4  8  12\n"
     ]
    }
   ],
   "source": [
    "#conditional selection ubdate index\n",
    "import pandas as pd\n",
    "# Create a sample DataFrame\n",
    "data = {'A': [1, 2, 3, 4],\n",
    "        'B': [5, 6, 7, 8],\n",
    "        'C': [9, 10, 11, 12]}\n",
    "df = pd.DataFrame(data)\n",
    "# Display the original DataFrame\n",
    "print(\"Original DataFrame:\")\n",
    "print(df)\n",
    "# Condition for updating the index\n",
    "condition = df['A'] > 2\n",
    "# Update the index based on the condition\n",
    "df.set_index(condition, inplace=True)\n",
    "# Display the modified DataFrame with updated index\n",
    "print(\"\\nModified DataFrame with Updated Index:\")\n",
    "print(df)"
   ]
  },
  {
   "cell_type": "code",
   "execution_count": 101,
   "id": "58b3c57b-91b5-4c04-899b-644aebbcc3c2",
   "metadata": {},
   "outputs": [
    {
     "name": "stdout",
     "output_type": "stream",
     "text": [
      "Original DataFrame with Index:\n",
      "   A  B\n",
      "X  1  5\n",
      "Y  2  6\n",
      "Z  3  7\n",
      "W  4  8\n",
      "\n",
      "Modified DataFrame without Index:\n",
      "   A  B\n",
      "0  1  5\n",
      "1  2  6\n",
      "2  3  7\n",
      "3  4  8\n"
     ]
    }
   ],
   "source": [
    "##conditional selection remove index\n",
    "import pandas as pd\n",
    "data = {'A': [1, 2, 3, 4],\n",
    "        'B': [5, 6, 7, 8]}\n",
    "index = ['X', 'Y', 'Z', 'W']\n",
    "df = pd.DataFrame(data, index=index)\n",
    "# Display the original DataFrame with index\n",
    "print(\"Original DataFrame with Index:\")\n",
    "print(df)\n",
    "# Condition for removing the index\n",
    "condition = df['A'] > 2\n",
    "# Reset the index based on the condition\n",
    "if condition.any():\n",
    "    df.reset_index(drop=True, inplace=True)\n",
    "# Display the modified DataFrame without index\n",
    "print(\"\\nModified DataFrame without Index:\")\n",
    "print(df)"
   ]
  },
  {
   "cell_type": "code",
   "execution_count": 102,
   "id": "18a05204-4356-4468-bc9a-282793cfb164",
   "metadata": {},
   "outputs": [
    {
     "name": "stdout",
     "output_type": "stream",
     "text": [
      "Original DataFrame:\n",
      "   A  B\n",
      "0  1  5\n",
      "1  2  6\n",
      "2  3  7\n",
      "3  4  8\n",
      "\n",
      "Modified DataFrame with Addition:\n",
      "   A  B   C\n",
      "0  1  5   6\n",
      "1  2  6   8\n",
      "2  3  7  10\n",
      "3  4  8  12\n"
     ]
    }
   ],
   "source": [
    "#operation + between two columns\n",
    "import pandas as pd\n",
    "# Create a sample DataFrame\n",
    "data = {'A': [1, 2, 3, 4],\n",
    "        'B': [5, 6, 7, 8]}\n",
    "df = pd.DataFrame(data)\n",
    "# Display the original DataFrame\n",
    "print(\"Original DataFrame:\")\n",
    "print(df)\n",
    "# Perform addition between columns A and B\n",
    "df['C'] = df['A'] + df['B']\n",
    "# Display the modified DataFrame\n",
    "print(\"\\nModified DataFrame with Addition:\")\n",
    "print(df)"
   ]
  },
  {
   "cell_type": "code",
   "execution_count": 103,
   "id": "93212574-90f9-4016-9965-8154d93fdbfb",
   "metadata": {},
   "outputs": [
    {
     "name": "stdout",
     "output_type": "stream",
     "text": [
      "Original DataFrame:\n",
      "    A   B\n",
      "0  50  10\n",
      "1  60  20\n",
      "2  70  30\n",
      "3  80  40\n",
      "\n",
      "Modified DataFrame with Addition:\n",
      "    A   B   C\n",
      "0  50  10  40\n",
      "1  60  20  40\n",
      "2  70  30  40\n",
      "3  80  40  40\n"
     ]
    }
   ],
   "source": [
    "#operation - between two columns \n",
    "import pandas as pd\n",
    "# Create a sample DataFrame\n",
    "data = {'A': [50, 60, 70, 80],\n",
    "        'B': [10, 20, 30, 40]}\n",
    "df = pd.DataFrame(data)\n",
    "# Display the original DataFrame\n",
    "print(\"Original DataFrame:\")\n",
    "print(df)\n",
    "# Perform addition between columns A and B\n",
    "df['C'] = df['A'] - df['B']\n",
    "# Display the modified DataFrame\n",
    "print(\"\\nModified DataFrame with Addition:\")\n",
    "print(df)"
   ]
  },
  {
   "cell_type": "code",
   "execution_count": 104,
   "id": "bba04628-5b3d-4960-add3-c0b878a5b825",
   "metadata": {},
   "outputs": [
    {
     "name": "stdout",
     "output_type": "stream",
     "text": [
      "Original DataFrame:\n",
      "   A  B\n",
      "0  1  5\n",
      "1  2  6\n",
      "2  3  7\n",
      "3  4  8\n",
      "\n",
      "Modified DataFrame with Multiplication:\n",
      "   A  B   C\n",
      "0  1  5   5\n",
      "1  2  6  12\n",
      "2  3  7  21\n",
      "3  4  8  32\n"
     ]
    }
   ],
   "source": [
    "#operation * between two columns\n",
    "import pandas as pd\n",
    "# Create a sample DataFrame\n",
    "data = {'A': [1, 2, 3, 4],\n",
    "        'B': [5, 6, 7, 8]}\n",
    "df = pd.DataFrame(data)\n",
    "# Display the original DataFrame\n",
    "print(\"Original DataFrame:\")\n",
    "print(df)\n",
    "# Perform multiplication between columns A and B\n",
    "df['C'] = df['A'] * df['B']\n",
    "# Display the modified DataFrame\n",
    "print(\"\\nModified DataFrame with Multiplication:\")\n",
    "print(df)"
   ]
  },
  {
   "cell_type": "code",
   "execution_count": 105,
   "id": "b41840a9-22dc-4a78-a6cc-dad9227aa5cf",
   "metadata": {},
   "outputs": [
    {
     "name": "stdout",
     "output_type": "stream",
     "text": [
      "   Column1  Column2  Result\n",
      "0       10        2     5.0\n",
      "1       20        4     5.0\n",
      "2       30        5     6.0\n",
      "3       40       10     4.0\n",
      "4       50       25     2.0\n"
     ]
    }
   ],
   "source": [
    "#operation / between two columns\n",
    "import pandas as pd\n",
    "data = {\n",
    "    'Column1': [10, 20, 30, 40, 50],\n",
    "    'Column2': [2, 4, 5, 10, 25]\n",
    "}\n",
    "# Create DataFrame\n",
    "df = pd.DataFrame(data)\n",
    "# Perform element-wise division between 'Column1' and 'Column2'\n",
    "df['Result'] = df['Column1'] / df['Column2']\n",
    "# Display the DataFrame\n",
    "print(df)"
   ]
  }
 ],
 "metadata": {
  "kernelspec": {
   "display_name": "Python 3 (ipykernel)",
   "language": "python",
   "name": "python3"
  },
  "language_info": {
   "codemirror_mode": {
    "name": "ipython",
    "version": 3
   },
   "file_extension": ".py",
   "mimetype": "text/x-python",
   "name": "python",
   "nbconvert_exporter": "python",
   "pygments_lexer": "ipython3",
   "version": "3.11.7"
  }
 },
 "nbformat": 4,
 "nbformat_minor": 5
}
