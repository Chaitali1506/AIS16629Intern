{
 "cells": [
  {
   "cell_type": "code",
   "execution_count": null,
   "id": "a9ebfc10-6141-4003-90d0-0c42977bb531",
   "metadata": {},
   "outputs": [],
   "source": [
    "#When the user does not know what code to write, So user simply places a pass at that line. \n",
    "#Sometimes, the pass is used when the user doesn’t want any code to execute. \n",
    "#So users can simply place a pass where empty code is not allowed, like in loops, function definitions, \n",
    "#class definitions, or in if statements. So using a pass statement user avoids this error."
   ]
  },
  {
   "cell_type": "code",
   "execution_count": 7,
   "id": "3448e7e7-a199-43b3-a79e-e19aabee0c7e",
   "metadata": {},
   "outputs": [
    {
     "name": "stdout",
     "output_type": "stream",
     "text": [
      "b\n",
      "c\n",
      "d\n"
     ]
    }
   ],
   "source": [
    "li =['a', 'b', 'c', 'd']\n",
    " \n",
    "for i in li:\n",
    "    if(i =='a'):\n",
    "        pass\n",
    "    else:\n",
    "        print(i)"
   ]
  },
  {
   "cell_type": "code",
   "execution_count": 8,
   "id": "92a3a7c7-767b-47d5-99f0-6295885bec70",
   "metadata": {},
   "outputs": [
    {
     "name": "stdout",
     "output_type": "stream",
     "text": [
      "x is less than or equal to 10\n"
     ]
    }
   ],
   "source": [
    "x = 5\n",
    "if x > 10:\n",
    "    pass\n",
    "else:\n",
    "    print(\"x is less than or equal to 10\")\n",
    "def my_function():\n",
    "    pass\n",
    "class MyClass:\n",
    "    def __init__(self):\n",
    "         pass"
   ]
  },
  {
   "cell_type": "code",
   "execution_count": 9,
   "id": "bd076d88-1435-4503-a3d9-33c1f0b54a8e",
   "metadata": {},
   "outputs": [
    {
     "name": "stdout",
     "output_type": "stream",
     "text": [
      "5\n",
      "6\n",
      "7\n",
      "8\n",
      "9\n"
     ]
    }
   ],
   "source": [
    "for i in range(10):\n",
    "    if i < 5:\n",
    "        pass\n",
    "    else:\n",
    "        print(i)"
   ]
  }
 ],
 "metadata": {
  "kernelspec": {
   "display_name": "Python 3 (ipykernel)",
   "language": "python",
   "name": "python3"
  },
  "language_info": {
   "codemirror_mode": {
    "name": "ipython",
    "version": 3
   },
   "file_extension": ".py",
   "mimetype": "text/x-python",
   "name": "python",
   "nbconvert_exporter": "python",
   "pygments_lexer": "ipython3",
   "version": "3.11.7"
  }
 },
 "nbformat": 4,
 "nbformat_minor": 5
}
