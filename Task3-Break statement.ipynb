{
 "cells": [
  {
   "cell_type": "code",
   "execution_count": null,
   "id": "5d0dd42d-eb03-49af-9f6f-80e172b73f81",
   "metadata": {},
   "outputs": [],
   "source": [
    "#break statement in Python is used to bring the control out of the loop when some external condition is triggered.\n",
    "#break statement is put inside the loop body (generally after if condition).  \n",
    "#It terminates the current loop, i.e., the loop in which it appears, and resumes execution at the next statement immediately \n",
    "#after the end of that loop. If the break statement is inside a nested loop, the break will terminate the innermost loop."
   ]
  },
  {
   "cell_type": "code",
   "execution_count": 1,
   "id": "de5973b7-24af-4777-ab1d-77af6c3b331d",
   "metadata": {},
   "outputs": [
    {
     "name": "stdout",
     "output_type": "stream",
     "text": [
      "1\n",
      "2\n",
      "3\n"
     ]
    }
   ],
   "source": [
    "i = 1\n",
    "while i < 6:\n",
    "  print(i)\n",
    "  if i == 3:\n",
    "    break\n",
    "  i += 1"
   ]
  },
  {
   "cell_type": "code",
   "execution_count": 2,
   "id": "9a2e6058-5c19-4d06-9e7f-333514a997da",
   "metadata": {},
   "outputs": [
    {
     "name": "stdout",
     "output_type": "stream",
     "text": [
      "The num has value: 1\n",
      "The num has value: 2\n",
      "The num has value: 3\n",
      "The num has value: 4\n",
      "The num has value: 5\n",
      "The num has value: 6\n",
      "The num has value: 7\n",
      "Out of loop\n"
     ]
    }
   ],
   "source": [
    "num = 0\n",
    "for i in range(10): \n",
    "    num += 1\n",
    "    if num == 8: \n",
    "        break\n",
    "    print(\"The num has value:\", num) \n",
    "print(\"Out of loop\") "
   ]
  },
  {
   "cell_type": "code",
   "execution_count": 3,
   "id": "981b1abd-db22-43d5-a8ff-c7db700029e7",
   "metadata": {},
   "outputs": [
    {
     "name": "stdout",
     "output_type": "stream",
     "text": [
      "Item matched\n",
      "Found at location 2\n"
     ]
    }
   ],
   "source": [
    "my_list = [1, 2, 3, 4]  \n",
    "count = 1  \n",
    "for item in my_list:  \n",
    "    if item == 4:  \n",
    "        print(\"Item matched\")  \n",
    "        count += 1  \n",
    "        break  \n",
    "print(\"Found at location\", count)  "
   ]
  }
 ],
 "metadata": {
  "kernelspec": {
   "display_name": "Python 3 (ipykernel)",
   "language": "python",
   "name": "python3"
  },
  "language_info": {
   "codemirror_mode": {
    "name": "ipython",
    "version": 3
   },
   "file_extension": ".py",
   "mimetype": "text/x-python",
   "name": "python",
   "nbconvert_exporter": "python",
   "pygments_lexer": "ipython3",
   "version": "3.11.7"
  }
 },
 "nbformat": 4,
 "nbformat_minor": 5
}
