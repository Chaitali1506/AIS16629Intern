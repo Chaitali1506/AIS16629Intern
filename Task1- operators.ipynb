{
 "cells": [
  {
   "cell_type": "code",
   "execution_count": 1,
   "id": "7444923a-5dc3-468f-99d6-39de9703e5fa",
   "metadata": {},
   "outputs": [
    {
     "data": {
      "text/plain": [
       "2.8"
      ]
     },
     "execution_count": 1,
     "metadata": {},
     "output_type": "execute_result"
    }
   ],
   "source": [
    "#Arithmatic operators\n",
    "14/5"
   ]
  },
  {
   "cell_type": "code",
   "execution_count": 2,
   "id": "c3bef3f3-93c4-4635-9ead-efe9075d848a",
   "metadata": {},
   "outputs": [
    {
     "name": "stdout",
     "output_type": "stream",
     "text": [
      "4\n",
      "9\n",
      "4\n",
      "20\n",
      "4.0\n",
      "0.0\n",
      "100\n",
      "50\n"
     ]
    }
   ],
   "source": [
    "#Assignment operators(=,-,*,/,**(power),//(modulus))\n",
    "x=4\n",
    "y=10\n",
    "print(x)\n",
    "x+=5\n",
    "print(x)\n",
    "x-=5\n",
    "print(x)\n",
    "x*=5\n",
    "print(x)\n",
    "x/=5\n",
    "print(x)\n",
    "x%=2\n",
    "print(x)\n",
    "y**=2\n",
    "print(y)\n",
    "y//=2\n",
    "print(y)"
   ]
  },
  {
   "cell_type": "code",
   "execution_count": 4,
   "id": "e7b514a5-0538-4cea-b52b-ecf36e10e5f0",
   "metadata": {},
   "outputs": [
    {
     "data": {
      "text/plain": [
       "False"
      ]
     },
     "execution_count": 4,
     "metadata": {},
     "output_type": "execute_result"
    }
   ],
   "source": [
    "#comparison operator\n",
    "3!=3"
   ]
  },
  {
   "cell_type": "code",
   "execution_count": 5,
   "id": "05896d8a-ce42-429b-a032-c46973e0f229",
   "metadata": {},
   "outputs": [
    {
     "data": {
      "text/plain": [
       "True"
      ]
     },
     "execution_count": 5,
     "metadata": {},
     "output_type": "execute_result"
    }
   ],
   "source": [
    "9!=3"
   ]
  },
  {
   "cell_type": "code",
   "execution_count": 6,
   "id": "a0c98f65-0714-4733-ac68-a1109542b957",
   "metadata": {},
   "outputs": [
    {
     "data": {
      "text/plain": [
       "True"
      ]
     },
     "execution_count": 6,
     "metadata": {},
     "output_type": "execute_result"
    }
   ],
   "source": [
    "7<=7"
   ]
  },
  {
   "cell_type": "code",
   "execution_count": 7,
   "id": "ee39c0bd-9cc7-4f26-9664-ea90d0c9d18e",
   "metadata": {},
   "outputs": [
    {
     "data": {
      "text/plain": [
       "True"
      ]
     },
     "execution_count": 7,
     "metadata": {},
     "output_type": "execute_result"
    }
   ],
   "source": [
    "9==9"
   ]
  },
  {
   "cell_type": "code",
   "execution_count": 8,
   "id": "f232e9f5-4bb6-46b8-a3b6-8184ef578447",
   "metadata": {},
   "outputs": [
    {
     "name": "stdout",
     "output_type": "stream",
     "text": [
      "False\n"
     ]
    }
   ],
   "source": [
    "#Logical operator\n",
    "x=True\n",
    "y=False\n",
    "print(x and y)"
   ]
  },
  {
   "cell_type": "code",
   "execution_count": 9,
   "id": "d19c4544-4e9a-4905-8aa9-611fed0faa49",
   "metadata": {},
   "outputs": [
    {
     "name": "stdout",
     "output_type": "stream",
     "text": [
      "True\n"
     ]
    }
   ],
   "source": [
    "print(x or y)"
   ]
  },
  {
   "cell_type": "code",
   "execution_count": null,
   "id": "5ad82fc8-0ece-431f-bc54-d5d636ae3b58",
   "metadata": {},
   "outputs": [],
   "source": [
    "print( not y)"
   ]
  }
 ],
 "metadata": {
  "kernelspec": {
   "display_name": "Python 3 (ipykernel)",
   "language": "python",
   "name": "python3"
  },
  "language_info": {
   "codemirror_mode": {
    "name": "ipython",
    "version": 3
   },
   "file_extension": ".py",
   "mimetype": "text/x-python",
   "name": "python",
   "nbconvert_exporter": "python",
   "pygments_lexer": "ipython3",
   "version": "3.11.7"
  }
 },
 "nbformat": 4,
 "nbformat_minor": 5
}
